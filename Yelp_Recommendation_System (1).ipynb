{
  "nbformat": 4,
  "nbformat_minor": 0,
  "metadata": {
    "colab": {
      "name": "Yelp Recommendation System.ipynb",
      "version": "0.3.2",
      "provenance": [],
      "collapsed_sections": []
    },
    "kernelspec": {
      "name": "python3",
      "display_name": "Python 3"
    },
    "accelerator": "GPU"
  },
  "cells": [
    {
      "metadata": {
        "id": "jU2K4X4u5-kR",
        "colab_type": "text"
      },
      "cell_type": "markdown",
      "source": [
        "# J Component- **CSE-3019 Data Mining**.\n",
        "\n",
        "# *`Yelp Recommender System`*\n",
        "\n",
        "\n",
        "*   **16BIS0083 (Rajdeep Debgupta)**\n",
        "*   **16BIS0002 (Varun Aggarwal)**\n",
        "\n",
        "*   **16BIS0018 (Vipul Jindal)**\n",
        "*   **16BIS0179 (Anirudh Aggarwal)**\n",
        "\n",
        "\n",
        "\n",
        "\n",
        "\n"
      ]
    },
    {
      "metadata": {
        "id": "kWqOQSmO3-FC",
        "colab_type": "text"
      },
      "cell_type": "markdown",
      "source": [
        "Importing the required libraries"
      ]
    },
    {
      "metadata": {
        "id": "hinonm4y3-5Y",
        "colab_type": "code",
        "colab": {}
      },
      "cell_type": "code",
      "source": [
        "import pandas as pd\n",
        "from six.moves import cPickle\n",
        "import numpy as np\n",
        "from scipy.sparse import csr_matrix\n",
        "from sklearn.decomposition import TruncatedSVD\n",
        "from scipy.sparse.linalg import svds\n",
        "import matplotlib.pyplot as plt\n",
        "from sklearn.metrics import mean_squared_error\n",
        "%matplotlib inline"
      ],
      "execution_count": 0,
      "outputs": []
    },
    {
      "metadata": {
        "id": "A7lwwxDd38mo",
        "colab_type": "text"
      },
      "cell_type": "markdown",
      "source": [
        "Building server authentication to kaggle dataset repository by uploading json key for a user."
      ]
    },
    {
      "metadata": {
        "id": "LATUS1nN4DQn",
        "colab_type": "code",
        "outputId": "1b4f4e93-b5c0-4553-e83a-71655c137fe1",
        "colab": {
          "resources": {
            "http://localhost:8080/nbextensions/google.colab/files.js": {
              "data": "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",
              "ok": true,
              "headers": [
                [
                  "content-type",
                  "application/javascript"
                ]
              ],
              "status": 200,
              "status_text": ""
            }
          },
          "base_uri": "https://localhost:8080/",
          "height": 92
        }
      },
      "cell_type": "code",
      "source": [
        "from google.colab import files\n",
        "files.upload()"
      ],
      "execution_count": 0,
      "outputs": [
        {
          "output_type": "display_data",
          "data": {
            "text/html": [
              "\n",
              "     <input type=\"file\" id=\"files-67076bfa-662f-4843-b758-9cf838e91fa7\" name=\"files[]\" multiple disabled />\n",
              "     <output id=\"result-67076bfa-662f-4843-b758-9cf838e91fa7\">\n",
              "      Upload widget is only available when the cell has been executed in the\n",
              "      current browser session. Please rerun this cell to enable.\n",
              "      </output>\n",
              "      <script src=\"/nbextensions/google.colab/files.js\"></script> "
            ],
            "text/plain": [
              "<IPython.core.display.HTML object>"
            ]
          },
          "metadata": {
            "tags": []
          }
        },
        {
          "output_type": "stream",
          "text": [
            "Saving kaggle.json to kaggle.json\n"
          ],
          "name": "stdout"
        },
        {
          "output_type": "execute_result",
          "data": {
            "text/plain": [
              "{'kaggle.json': b'{\"username\":\"rajdeep04\",\"key\":\"0734dd7d4482886fbd455d6ef4c20278\"}'}"
            ]
          },
          "metadata": {
            "tags": []
          },
          "execution_count": 3
        }
      ]
    },
    {
      "metadata": {
        "id": "mppmGFnG6apg",
        "colab_type": "text"
      },
      "cell_type": "markdown",
      "source": [
        "Setting up the directory to kaggle"
      ]
    },
    {
      "metadata": {
        "id": "e7Ay2-Q94Hpi",
        "colab_type": "code",
        "colab": {}
      },
      "cell_type": "code",
      "source": [
        "!mkdir -p ~/.kaggle\n",
        "!cp kaggle.json ~/.kaggle/\n",
        "!chmod 600 ~/.kaggle/kaggle.json"
      ],
      "execution_count": 0,
      "outputs": []
    },
    {
      "metadata": {
        "id": "s6YsYz6r6h6M",
        "colab_type": "text"
      },
      "cell_type": "markdown",
      "source": [
        "Downloading the datasets:"
      ]
    },
    {
      "metadata": {
        "id": "e7CvFDhY9iCA",
        "colab_type": "code",
        "outputId": "85047e7e-188c-4f49-c8dc-9783879c9f86",
        "colab": {
          "base_uri": "https://localhost:8080/",
          "height": 69
        }
      },
      "cell_type": "code",
      "source": [
        "!kaggle datasets download -d z5025122/yelp-csv"
      ],
      "execution_count": 0,
      "outputs": [
        {
          "output_type": "stream",
          "text": [
            "Downloading yelp-csv.zip to /content\n",
            " 99% 345M/348M [00:04<00:00, 117MB/s] \n",
            "100% 348M/348M [00:04<00:00, 75.7MB/s]\n"
          ],
          "name": "stdout"
        }
      ]
    },
    {
      "metadata": {
        "id": "kf4Q5GKJ6vL7",
        "colab_type": "code",
        "outputId": "9fbd7b24-21cb-472f-b162-381c144a61ae",
        "colab": {
          "base_uri": "https://localhost:8080/",
          "height": 69
        }
      },
      "cell_type": "code",
      "source": [
        "!unzip yelp-csv.zip"
      ],
      "execution_count": 0,
      "outputs": [
        {
          "output_type": "stream",
          "text": [
            "Archive:  yelp-csv.zip\n",
            "  inflating: yelp_academic_dataset_review.csv  \n",
            "  inflating: yelp_academic_dataset_business.csv  \n"
          ],
          "name": "stdout"
        }
      ]
    },
    {
      "metadata": {
        "id": "ZO5IPAGF7CM5",
        "colab_type": "code",
        "colab": {}
      },
      "cell_type": "code",
      "source": [
        ""
      ],
      "execution_count": 0,
      "outputs": []
    },
    {
      "metadata": {
        "id": "LAWJtmuhMGKv",
        "colab_type": "code",
        "outputId": "5cc55df1-d9eb-402a-94d7-c6771810871d",
        "colab": {
          "base_uri": "https://localhost:8080/",
          "height": 52
        }
      },
      "cell_type": "code",
      "source": [
        "!kaggle datasets download -d luisfredgs/yelp-reviews-csv"
      ],
      "execution_count": 0,
      "outputs": [
        {
          "output_type": "stream",
          "text": [
            "Downloading yelp-reviews-csv.zip to /content\n",
            " 82% 1.20G/1.47G [00:12<00:01, 148MB/s]User cancelled operation\n"
          ],
          "name": "stdout"
        }
      ]
    },
    {
      "metadata": {
        "id": "C5BP-eJKOcmd",
        "colab_type": "code",
        "outputId": "6886f275-85a3-416d-d3f6-406d2caa5c02",
        "colab": {
          "base_uri": "https://localhost:8080/",
          "height": 34
        }
      },
      "cell_type": "code",
      "source": [
        "!unzip yelp-reviews-csv.zip"
      ],
      "execution_count": 0,
      "outputs": [
        {
          "output_type": "stream",
          "text": [
            "unzip:  cannot find or open yelp-reviews-csv.zip, yelp-reviews-csv.zip.zip or yelp-reviews-csv.zip.ZIP.\n"
          ],
          "name": "stdout"
        }
      ]
    },
    {
      "metadata": {
        "id": "z1yxxd4K8kt9",
        "colab_type": "code",
        "colab": {}
      },
      "cell_type": "code",
      "source": [
        "df_full=pd.read_csv('yelp_academic_dataset_review.csv')"
      ],
      "execution_count": 0,
      "outputs": []
    },
    {
      "metadata": {
        "id": "-OXGWzJdCEJc",
        "colab_type": "code",
        "outputId": "c32ca3f2-9776-41fd-d88e-25c85d66cf0d",
        "colab": {
          "base_uri": "https://localhost:8080/",
          "height": 459
        }
      },
      "cell_type": "code",
      "source": [
        "df_full.head()"
      ],
      "execution_count": 0,
      "outputs": [
        {
          "output_type": "execute_result",
          "data": {
            "text/html": [
              "<div>\n",
              "<style scoped>\n",
              "    .dataframe tbody tr th:only-of-type {\n",
              "        vertical-align: middle;\n",
              "    }\n",
              "\n",
              "    .dataframe tbody tr th {\n",
              "        vertical-align: top;\n",
              "    }\n",
              "\n",
              "    .dataframe thead th {\n",
              "        text-align: right;\n",
              "    }\n",
              "</style>\n",
              "<table border=\"1\" class=\"dataframe\">\n",
              "  <thead>\n",
              "    <tr style=\"text-align: right;\">\n",
              "      <th></th>\n",
              "      <th>user_id</th>\n",
              "      <th>review_id</th>\n",
              "      <th>text</th>\n",
              "      <th>votes.cool</th>\n",
              "      <th>business_id</th>\n",
              "      <th>votes.funny</th>\n",
              "      <th>stars</th>\n",
              "      <th>date</th>\n",
              "      <th>type</th>\n",
              "      <th>votes.useful</th>\n",
              "    </tr>\n",
              "  </thead>\n",
              "  <tbody>\n",
              "    <tr>\n",
              "      <th>0</th>\n",
              "      <td>Xqd0DzHaiyRqVH3WRG7hzg</td>\n",
              "      <td>15SdjuK7DmYqUAj6rjGowg</td>\n",
              "      <td>dr. goldberg offers everything i look for in a...</td>\n",
              "      <td>1</td>\n",
              "      <td>vcNAWiLM4dR7D2nwwJ7nCA</td>\n",
              "      <td>0</td>\n",
              "      <td>5</td>\n",
              "      <td>2007-05-17</td>\n",
              "      <td>review</td>\n",
              "      <td>2</td>\n",
              "    </tr>\n",
              "    <tr>\n",
              "      <th>1</th>\n",
              "      <td>H1kH6QZV7Le4zqTRNxoZow</td>\n",
              "      <td>RF6UnRTtG7tWMcrO2GEoAg</td>\n",
              "      <td>Unfortunately, the frustration of being Dr. Go...</td>\n",
              "      <td>0</td>\n",
              "      <td>vcNAWiLM4dR7D2nwwJ7nCA</td>\n",
              "      <td>0</td>\n",
              "      <td>2</td>\n",
              "      <td>2010-03-22</td>\n",
              "      <td>review</td>\n",
              "      <td>2</td>\n",
              "    </tr>\n",
              "    <tr>\n",
              "      <th>2</th>\n",
              "      <td>zvJCcrpm2yOZrxKffwGQLA</td>\n",
              "      <td>-TsVN230RCkLYKBeLsuz7A</td>\n",
              "      <td>Dr. Goldberg has been my doctor for years and ...</td>\n",
              "      <td>1</td>\n",
              "      <td>vcNAWiLM4dR7D2nwwJ7nCA</td>\n",
              "      <td>0</td>\n",
              "      <td>4</td>\n",
              "      <td>2012-02-14</td>\n",
              "      <td>review</td>\n",
              "      <td>1</td>\n",
              "    </tr>\n",
              "    <tr>\n",
              "      <th>3</th>\n",
              "      <td>KBLW4wJA_fwoWmMhiHRVOA</td>\n",
              "      <td>dNocEAyUucjT371NNND41Q</td>\n",
              "      <td>Been going to Dr. Goldberg for over 10 years. ...</td>\n",
              "      <td>0</td>\n",
              "      <td>vcNAWiLM4dR7D2nwwJ7nCA</td>\n",
              "      <td>0</td>\n",
              "      <td>4</td>\n",
              "      <td>2012-03-02</td>\n",
              "      <td>review</td>\n",
              "      <td>0</td>\n",
              "    </tr>\n",
              "    <tr>\n",
              "      <th>4</th>\n",
              "      <td>zvJCcrpm2yOZrxKffwGQLA</td>\n",
              "      <td>ebcN2aqmNUuYNoyvQErgnA</td>\n",
              "      <td>Got a letter in the mail last week that said D...</td>\n",
              "      <td>1</td>\n",
              "      <td>vcNAWiLM4dR7D2nwwJ7nCA</td>\n",
              "      <td>0</td>\n",
              "      <td>4</td>\n",
              "      <td>2012-05-15</td>\n",
              "      <td>review</td>\n",
              "      <td>2</td>\n",
              "    </tr>\n",
              "  </tbody>\n",
              "</table>\n",
              "</div>"
            ],
            "text/plain": [
              "                  user_id               review_id  \\\n",
              "0  Xqd0DzHaiyRqVH3WRG7hzg  15SdjuK7DmYqUAj6rjGowg   \n",
              "1  H1kH6QZV7Le4zqTRNxoZow  RF6UnRTtG7tWMcrO2GEoAg   \n",
              "2  zvJCcrpm2yOZrxKffwGQLA  -TsVN230RCkLYKBeLsuz7A   \n",
              "3  KBLW4wJA_fwoWmMhiHRVOA  dNocEAyUucjT371NNND41Q   \n",
              "4  zvJCcrpm2yOZrxKffwGQLA  ebcN2aqmNUuYNoyvQErgnA   \n",
              "\n",
              "                                                text  votes.cool  \\\n",
              "0  dr. goldberg offers everything i look for in a...           1   \n",
              "1  Unfortunately, the frustration of being Dr. Go...           0   \n",
              "2  Dr. Goldberg has been my doctor for years and ...           1   \n",
              "3  Been going to Dr. Goldberg for over 10 years. ...           0   \n",
              "4  Got a letter in the mail last week that said D...           1   \n",
              "\n",
              "              business_id  votes.funny  stars        date    type  \\\n",
              "0  vcNAWiLM4dR7D2nwwJ7nCA            0      5  2007-05-17  review   \n",
              "1  vcNAWiLM4dR7D2nwwJ7nCA            0      2  2010-03-22  review   \n",
              "2  vcNAWiLM4dR7D2nwwJ7nCA            0      4  2012-02-14  review   \n",
              "3  vcNAWiLM4dR7D2nwwJ7nCA            0      4  2012-03-02  review   \n",
              "4  vcNAWiLM4dR7D2nwwJ7nCA            0      4  2012-05-15  review   \n",
              "\n",
              "   votes.useful  \n",
              "0             2  \n",
              "1             2  \n",
              "2             1  \n",
              "3             0  \n",
              "4             2  "
            ]
          },
          "metadata": {
            "tags": []
          },
          "execution_count": 10
        }
      ]
    },
    {
      "metadata": {
        "id": "5_VrpU45PCgf",
        "colab_type": "code",
        "outputId": "1007993c-e176-4eb5-aad5-dcc62410ccdf",
        "colab": {
          "base_uri": "https://localhost:8080/",
          "height": 71
        }
      },
      "cell_type": "code",
      "source": [
        "df_bus=pd.read_csv('yelp_academic_dataset_business.csv')"
      ],
      "execution_count": 0,
      "outputs": [
        {
          "output_type": "stream",
          "text": [
            "/usr/local/lib/python3.6/dist-packages/IPython/core/interactiveshell.py:2718: DtypeWarning: Columns (2,5,8,15,18,21,27,30,43,49,52,62,64,66,70,84,89,92,100) have mixed types. Specify dtype option on import or set low_memory=False.\n",
            "  interactivity=interactivity, compiler=compiler, result=result)\n"
          ],
          "name": "stderr"
        }
      ]
    },
    {
      "metadata": {
        "id": "28sWuYnOS2AV",
        "colab_type": "code",
        "outputId": "3ee2a84d-f4d9-4c00-fb66-12c460556185",
        "colab": {
          "base_uri": "https://localhost:8080/",
          "height": 304
        }
      },
      "cell_type": "code",
      "source": [
        "df_bus.head()"
      ],
      "execution_count": 0,
      "outputs": [
        {
          "output_type": "execute_result",
          "data": {
            "text/html": [
              "<div>\n",
              "<style scoped>\n",
              "    .dataframe tbody tr th:only-of-type {\n",
              "        vertical-align: middle;\n",
              "    }\n",
              "\n",
              "    .dataframe tbody tr th {\n",
              "        vertical-align: top;\n",
              "    }\n",
              "\n",
              "    .dataframe thead th {\n",
              "        text-align: right;\n",
              "    }\n",
              "</style>\n",
              "<table border=\"1\" class=\"dataframe\">\n",
              "  <thead>\n",
              "    <tr style=\"text-align: right;\">\n",
              "      <th></th>\n",
              "      <th>business_id</th>\n",
              "      <th>attributes.Ambience.divey</th>\n",
              "      <th>attributes.Dietary Restrictions.vegan</th>\n",
              "      <th>attributes.Happy Hour</th>\n",
              "      <th>hours.Thursday.open</th>\n",
              "      <th>attributes.Order at Counter</th>\n",
              "      <th>attributes.Hair Types Specialized In.africanamerican</th>\n",
              "      <th>attributes.Hair Types Specialized In.kids</th>\n",
              "      <th>attributes.BYOB</th>\n",
              "      <th>hours.Friday.open</th>\n",
              "      <th>...</th>\n",
              "      <th>attributes.Smoking</th>\n",
              "      <th>attributes.Attire</th>\n",
              "      <th>attributes.Hair Types Specialized In.curly</th>\n",
              "      <th>attributes.Good For Groups</th>\n",
              "      <th>neighborhoods</th>\n",
              "      <th>attributes.Open 24 Hours</th>\n",
              "      <th>attributes.Ambience.romantic</th>\n",
              "      <th>attributes.Hair Types Specialized In.perms</th>\n",
              "      <th>attributes.Music.jukebox</th>\n",
              "      <th>attributes.Ambience.upscale</th>\n",
              "    </tr>\n",
              "  </thead>\n",
              "  <tbody>\n",
              "    <tr>\n",
              "      <th>0</th>\n",
              "      <td>vcNAWiLM4dR7D2nwwJ7nCA</td>\n",
              "      <td>NaN</td>\n",
              "      <td>NaN</td>\n",
              "      <td>NaN</td>\n",
              "      <td>8:00</td>\n",
              "      <td>NaN</td>\n",
              "      <td>NaN</td>\n",
              "      <td>NaN</td>\n",
              "      <td>NaN</td>\n",
              "      <td>8:00</td>\n",
              "      <td>...</td>\n",
              "      <td>NaN</td>\n",
              "      <td>NaN</td>\n",
              "      <td>NaN</td>\n",
              "      <td>NaN</td>\n",
              "      <td>NaN</td>\n",
              "      <td>NaN</td>\n",
              "      <td>NaN</td>\n",
              "      <td>NaN</td>\n",
              "      <td>NaN</td>\n",
              "      <td>NaN</td>\n",
              "    </tr>\n",
              "    <tr>\n",
              "      <th>1</th>\n",
              "      <td>JwUE5GmEO-sH1FuwJgKBlQ</td>\n",
              "      <td>False</td>\n",
              "      <td>NaN</td>\n",
              "      <td>NaN</td>\n",
              "      <td>NaN</td>\n",
              "      <td>NaN</td>\n",
              "      <td>NaN</td>\n",
              "      <td>NaN</td>\n",
              "      <td>NaN</td>\n",
              "      <td>NaN</td>\n",
              "      <td>...</td>\n",
              "      <td>NaN</td>\n",
              "      <td>casual</td>\n",
              "      <td>NaN</td>\n",
              "      <td>True</td>\n",
              "      <td>NaN</td>\n",
              "      <td>NaN</td>\n",
              "      <td>False</td>\n",
              "      <td>NaN</td>\n",
              "      <td>NaN</td>\n",
              "      <td>False</td>\n",
              "    </tr>\n",
              "    <tr>\n",
              "      <th>2</th>\n",
              "      <td>uGykseHzyS5xAMWoN6YUqA</td>\n",
              "      <td>False</td>\n",
              "      <td>NaN</td>\n",
              "      <td>NaN</td>\n",
              "      <td>6:00</td>\n",
              "      <td>NaN</td>\n",
              "      <td>NaN</td>\n",
              "      <td>NaN</td>\n",
              "      <td>NaN</td>\n",
              "      <td>6:00</td>\n",
              "      <td>...</td>\n",
              "      <td>NaN</td>\n",
              "      <td>casual</td>\n",
              "      <td>NaN</td>\n",
              "      <td>True</td>\n",
              "      <td>NaN</td>\n",
              "      <td>NaN</td>\n",
              "      <td>False</td>\n",
              "      <td>NaN</td>\n",
              "      <td>NaN</td>\n",
              "      <td>False</td>\n",
              "    </tr>\n",
              "    <tr>\n",
              "      <th>3</th>\n",
              "      <td>LRKJF43s9-3jG9Lgx4zODg</td>\n",
              "      <td>NaN</td>\n",
              "      <td>NaN</td>\n",
              "      <td>NaN</td>\n",
              "      <td>10:30</td>\n",
              "      <td>NaN</td>\n",
              "      <td>NaN</td>\n",
              "      <td>NaN</td>\n",
              "      <td>NaN</td>\n",
              "      <td>10:30</td>\n",
              "      <td>...</td>\n",
              "      <td>NaN</td>\n",
              "      <td>casual</td>\n",
              "      <td>NaN</td>\n",
              "      <td>True</td>\n",
              "      <td>NaN</td>\n",
              "      <td>NaN</td>\n",
              "      <td>NaN</td>\n",
              "      <td>NaN</td>\n",
              "      <td>NaN</td>\n",
              "      <td>NaN</td>\n",
              "    </tr>\n",
              "    <tr>\n",
              "      <th>4</th>\n",
              "      <td>RgDg-k9S5YD_BaxMckifkg</td>\n",
              "      <td>NaN</td>\n",
              "      <td>NaN</td>\n",
              "      <td>NaN</td>\n",
              "      <td>11:00</td>\n",
              "      <td>NaN</td>\n",
              "      <td>NaN</td>\n",
              "      <td>NaN</td>\n",
              "      <td>NaN</td>\n",
              "      <td>11:00</td>\n",
              "      <td>...</td>\n",
              "      <td>NaN</td>\n",
              "      <td>casual</td>\n",
              "      <td>NaN</td>\n",
              "      <td>NaN</td>\n",
              "      <td>NaN</td>\n",
              "      <td>NaN</td>\n",
              "      <td>NaN</td>\n",
              "      <td>NaN</td>\n",
              "      <td>NaN</td>\n",
              "      <td>NaN</td>\n",
              "    </tr>\n",
              "  </tbody>\n",
              "</table>\n",
              "<p>5 rows × 105 columns</p>\n",
              "</div>"
            ],
            "text/plain": [
              "              business_id attributes.Ambience.divey  \\\n",
              "0  vcNAWiLM4dR7D2nwwJ7nCA                       NaN   \n",
              "1  JwUE5GmEO-sH1FuwJgKBlQ                     False   \n",
              "2  uGykseHzyS5xAMWoN6YUqA                     False   \n",
              "3  LRKJF43s9-3jG9Lgx4zODg                       NaN   \n",
              "4  RgDg-k9S5YD_BaxMckifkg                       NaN   \n",
              "\n",
              "  attributes.Dietary Restrictions.vegan attributes.Happy Hour  \\\n",
              "0                                   NaN                   NaN   \n",
              "1                                   NaN                   NaN   \n",
              "2                                   NaN                   NaN   \n",
              "3                                   NaN                   NaN   \n",
              "4                                   NaN                   NaN   \n",
              "\n",
              "  hours.Thursday.open attributes.Order at Counter  \\\n",
              "0                8:00                         NaN   \n",
              "1                 NaN                         NaN   \n",
              "2                6:00                         NaN   \n",
              "3               10:30                         NaN   \n",
              "4               11:00                         NaN   \n",
              "\n",
              "  attributes.Hair Types Specialized In.africanamerican  \\\n",
              "0                                                NaN     \n",
              "1                                                NaN     \n",
              "2                                                NaN     \n",
              "3                                                NaN     \n",
              "4                                                NaN     \n",
              "\n",
              "  attributes.Hair Types Specialized In.kids attributes.BYOB hours.Friday.open  \\\n",
              "0                                       NaN             NaN              8:00   \n",
              "1                                       NaN             NaN               NaN   \n",
              "2                                       NaN             NaN              6:00   \n",
              "3                                       NaN             NaN             10:30   \n",
              "4                                       NaN             NaN             11:00   \n",
              "\n",
              "              ...             attributes.Smoking  attributes.Attire  \\\n",
              "0             ...                            NaN                NaN   \n",
              "1             ...                            NaN             casual   \n",
              "2             ...                            NaN             casual   \n",
              "3             ...                            NaN             casual   \n",
              "4             ...                            NaN             casual   \n",
              "\n",
              "  attributes.Hair Types Specialized In.curly attributes.Good For Groups  \\\n",
              "0                                        NaN                        NaN   \n",
              "1                                        NaN                       True   \n",
              "2                                        NaN                       True   \n",
              "3                                        NaN                       True   \n",
              "4                                        NaN                        NaN   \n",
              "\n",
              "  neighborhoods attributes.Open 24 Hours attributes.Ambience.romantic  \\\n",
              "0           NaN                      NaN                          NaN   \n",
              "1           NaN                      NaN                        False   \n",
              "2           NaN                      NaN                        False   \n",
              "3           NaN                      NaN                          NaN   \n",
              "4           NaN                      NaN                          NaN   \n",
              "\n",
              "  attributes.Hair Types Specialized In.perms attributes.Music.jukebox  \\\n",
              "0                                        NaN                      NaN   \n",
              "1                                        NaN                      NaN   \n",
              "2                                        NaN                      NaN   \n",
              "3                                        NaN                      NaN   \n",
              "4                                        NaN                      NaN   \n",
              "\n",
              "  attributes.Ambience.upscale  \n",
              "0                         NaN  \n",
              "1                       False  \n",
              "2                       False  \n",
              "3                         NaN  \n",
              "4                         NaN  \n",
              "\n",
              "[5 rows x 105 columns]"
            ]
          },
          "metadata": {
            "tags": []
          },
          "execution_count": 13
        }
      ]
    },
    {
      "metadata": {
        "id": "lz38QaCVT9Kl",
        "colab_type": "code",
        "outputId": "e29f785f-701b-4d65-94e6-77f63c56e46a",
        "colab": {
          "base_uri": "https://localhost:8080/",
          "height": 1819
        }
      },
      "cell_type": "code",
      "source": [
        "print(\"Columns in business data file are:\")\n",
        "for i in df_bus.columns:\n",
        "    print(i)"
      ],
      "execution_count": 0,
      "outputs": [
        {
          "output_type": "stream",
          "text": [
            "Columns in business data file are:\n",
            "business_id\n",
            "attributes.Ambience.divey\n",
            "attributes.Dietary Restrictions.vegan\n",
            "attributes.Happy Hour\n",
            "hours.Thursday.open\n",
            "attributes.Order at Counter\n",
            "attributes.Hair Types Specialized In.africanamerican\n",
            "attributes.Hair Types Specialized In.kids\n",
            "attributes.BYOB\n",
            "hours.Friday.open\n",
            "categories\n",
            "latitude\n",
            "attributes.Outdoor Seating\n",
            "attributes.Alcohol\n",
            "attributes.Ambience.classy\n",
            "attributes.Payment Types.mastercard\n",
            "attributes.Parking.lot\n",
            "attributes.Ambience.touristy\n",
            "attributes.Corkage\n",
            "hours.Tuesday.open\n",
            "attributes.Good For.brunch\n",
            "attributes.Payment Types.amex\n",
            "name\n",
            "hours.Monday.open\n",
            "attributes.Waiter Service\n",
            "attributes.Parking.street\n",
            "attributes.Ambience.hipster\n",
            "attributes.BYOB/Corkage\n",
            "attributes.Hair Types Specialized In.straightperms\n",
            "attributes.Music.live\n",
            "attributes.Dietary Restrictions.dairy-free\n",
            "attributes.Music.background_music\n",
            "attributes.Price Range\n",
            "attributes.Good For.breakfast\n",
            "attributes.Parking.garage\n",
            "attributes.Music.karaoke\n",
            "attributes.Good For Dancing\n",
            "review_count\n",
            "attributes.Hair Types Specialized In.asian\n",
            "state\n",
            "attributes.Accepts Credit Cards\n",
            "hours.Friday.close\n",
            "attributes.Good For.lunch\n",
            "attributes.Good For Kids\n",
            "attributes.Parking.valet\n",
            "attributes.Take-out\n",
            "full_address\n",
            "hours.Thursday.close\n",
            "attributes.Hair Types Specialized In.coloring\n",
            "attributes.Payment Types.cash_only\n",
            "attributes.Good For.dessert\n",
            "attributes.Music.video\n",
            "attributes.Dietary Restrictions.halal\n",
            "attributes.Takes Reservations\n",
            "hours.Saturday.open\n",
            "attributes.Ages Allowed\n",
            "attributes.Ambience.trendy\n",
            "attributes.Delivery\n",
            "hours.Wednesday.close\n",
            "attributes.Wi-Fi\n",
            "open\n",
            "city\n",
            "attributes.Payment Types.discover\n",
            "attributes.Wheelchair Accessible\n",
            "attributes.Dietary Restrictions.gluten-free\n",
            "stars\n",
            "attributes.Payment Types.visa\n",
            "type\n",
            "attributes.Caters\n",
            "attributes.Ambience.intimate\n",
            "attributes.Music.playlist\n",
            "attributes.Good For.latenight\n",
            "attributes.Good For.dinner\n",
            "attributes.Coat Check\n",
            "longitude\n",
            "hours.Monday.close\n",
            "attributes.Hair Types Specialized In.extensions\n",
            "hours.Tuesday.close\n",
            "hours.Saturday.close\n",
            "attributes.Good for Kids\n",
            "attributes.Parking.validated\n",
            "hours.Sunday.open\n",
            "attributes.Accepts Insurance\n",
            "attributes.Music.dj\n",
            "attributes.Dietary Restrictions.soy-free\n",
            "attributes.Has TV\n",
            "hours.Sunday.close\n",
            "attributes.Ambience.casual\n",
            "attributes.By Appointment Only\n",
            "attributes.Dietary Restrictions.kosher\n",
            "attributes.Dogs Allowed\n",
            "attributes.Drive-Thru\n",
            "attributes.Dietary Restrictions.vegetarian\n",
            "hours.Wednesday.open\n",
            "attributes.Noise Level\n",
            "attributes.Smoking\n",
            "attributes.Attire\n",
            "attributes.Hair Types Specialized In.curly\n",
            "attributes.Good For Groups\n",
            "neighborhoods\n",
            "attributes.Open 24 Hours\n",
            "attributes.Ambience.romantic\n",
            "attributes.Hair Types Specialized In.perms\n",
            "attributes.Music.jukebox\n",
            "attributes.Ambience.upscale\n"
          ],
          "name": "stdout"
        }
      ]
    },
    {
      "metadata": {
        "id": "KAoq4fLBUKF9",
        "colab_type": "text"
      },
      "cell_type": "markdown",
      "source": [
        "# **2. Data Exploration, Data Cleaning and Matrix Building**"
      ]
    },
    {
      "metadata": {
        "id": "3WbQnnOuURQI",
        "colab_type": "text"
      },
      "cell_type": "markdown",
      "source": [
        "## 2.a. Number of businesses in each city:"
      ]
    },
    {
      "metadata": {
        "id": "C9_pVWWwUDh_",
        "colab_type": "code",
        "outputId": "5654eeb0-0908-4e52-909a-370090f13151",
        "colab": {
          "base_uri": "https://localhost:8080/",
          "height": 361
        }
      },
      "cell_type": "code",
      "source": [
        "df_bus_groups = df_bus.groupby('city').count()\n",
        "df_bus_city = df_bus_groups['name']\n",
        "df_bus_city_sorted = df_bus_city.sort_values(ascending = False)\n",
        "df_bus_city_sorted[:30].plot(kind = 'bar')"
      ],
      "execution_count": 0,
      "outputs": [
        {
          "output_type": "execute_result",
          "data": {
            "text/plain": [
              "<matplotlib.axes._subplots.AxesSubplot at 0x7f52deb28be0>"
            ]
          },
          "metadata": {
            "tags": []
          },
          "execution_count": 15
        },
        {
          "output_type": "display_data",
          "data": {
            "image/png": "[encoded data removed]",
            "text/plain": [
              "<Figure size 432x288 with 1 Axes>"
            ]
          },
          "metadata": {
            "tags": []
          }
        }
      ]
    },
    {
      "metadata": {
        "id": "L1SpPg1WUXKe",
        "colab_type": "text"
      },
      "cell_type": "markdown",
      "source": [
        "## 2.b. Different Type of Businesses and their Count:¶"
      ]
    },
    {
      "metadata": {
        "id": "qVybF8_VUUYd",
        "colab_type": "code",
        "outputId": "f447c46b-f434-483a-b6f2-764e887fee51",
        "colab": {
          "base_uri": "https://localhost:8080/",
          "height": 492
        }
      },
      "cell_type": "code",
      "source": [
        "uniq_cat_dict = {}\n",
        "for i in df_bus.categories:\n",
        "    cat = str(i).split(',')\n",
        "    for j in cat:\n",
        "        if j not in uniq_cat_dict.keys():\n",
        "            uniq_cat_dict[j] = 1\n",
        "        else:\n",
        "            uniq_cat_dict[j] += 1\n",
        "uniq_cat_series = pd.Series(uniq_cat_dict)\n",
        "uniq_cat_series.sort_values(ascending = False, inplace = True)\n",
        "uniq_cat_series[:30].plot(kind = 'bar')"
      ],
      "execution_count": 0,
      "outputs": [
        {
          "output_type": "execute_result",
          "data": {
            "text/plain": [
              "<matplotlib.axes._subplots.AxesSubplot at 0x7f52dc9ca4a8>"
            ]
          },
          "metadata": {
            "tags": []
          },
          "execution_count": 17
        },
        {
          "output_type": "display_data",
          "data": {
            "image/png": "[encoded data removed]",
            "text/plain": [
              "<Figure size 432x288 with 1 Axes>"
            ]
          },
          "metadata": {
            "tags": []
          }
        }
      ]
    },
    {
      "metadata": {
        "id": "gkSALjqXUjd0",
        "colab_type": "text"
      },
      "cell_type": "markdown",
      "source": [
        "## 2.c. Business and City Ordered pairs and their count:"
      ]
    },
    {
      "metadata": {
        "id": "hPeDrWcHUbIi",
        "colab_type": "code",
        "outputId": "74c62266-4f3f-4d0d-d807-a0cd2e686db0",
        "colab": {
          "base_uri": "https://localhost:8080/",
          "height": 552
        }
      },
      "cell_type": "code",
      "source": [
        "business_city = {}\n",
        "n = len(df_bus)\n",
        "for i in range(n):\n",
        "    k1 = str(df_bus.categories.iloc[i]).split(',')\n",
        "    k2 = df_bus.city.iloc[i]\n",
        "    for j in k1:\n",
        "        k = (j,k2)\n",
        "        if k not in business_city.keys():\n",
        "            business_city[k] = 1\n",
        "        else:\n",
        "            business_city[k] += 1\n",
        "business_city_series = pd.Series(business_city)\n",
        "business_city_series.sort_values(ascending = False, inplace = True)\n",
        "business_city_series[:30].plot(kind = 'bar')"
      ],
      "execution_count": 0,
      "outputs": [
        {
          "output_type": "execute_result",
          "data": {
            "text/plain": [
              "<matplotlib.axes._subplots.AxesSubplot at 0x7f52dc6c6438>"
            ]
          },
          "metadata": {
            "tags": []
          },
          "execution_count": 18
        },
        {
          "output_type": "display_data",
          "data": {
            "image/png": "[encoded data removed]",
            "text/plain": [
              "<Figure size 432x288 with 1 Axes>"
            ]
          },
          "metadata": {
            "tags": []
          }
        }
      ]
    },
    {
      "metadata": {
        "id": "caXHhBuNUqzh",
        "colab_type": "text"
      },
      "cell_type": "markdown",
      "source": [
        "### Inferences from 2.a, 2.b and 2.c"
      ]
    },
    {
      "metadata": {
        "id": "clCVqwhlUuyy",
        "colab_type": "text"
      },
      "cell_type": "markdown",
      "source": [
        "It can be seen that most of the businesses listed on the Yelp are Restaurants, Shopping places and Recreational Centers. For this given data set (obtained from Yelp's Website), top cities with maximum businesses are Las Vegas, Phoenix, and Scottsdale."
      ]
    },
    {
      "metadata": {
        "id": "89rO1bIJUyLR",
        "colab_type": "text"
      },
      "cell_type": "markdown",
      "source": [
        "## 2.d. Cleaning the review data"
      ]
    },
    {
      "metadata": {
        "id": "JwaGX1Z_U0nh",
        "colab_type": "text"
      },
      "cell_type": "markdown",
      "source": [
        "Dropping the unwanted columns like 'text': review text, 'useful': Number of people rated it useful, 'date',etc. The columns left are 'user_id', 'business_id' and 'stars'."
      ]
    },
    {
      "metadata": {
        "id": "EAmTEhqdUmLL",
        "colab_type": "code",
        "outputId": "f79fcc02-d6e2-47eb-fbe6-43e3051d8834",
        "colab": {
          "base_uri": "https://localhost:8080/",
          "height": 204
        }
      },
      "cell_type": "code",
      "source": [
        "df_reduced = df_full.drop(['text','votes.useful','votes.cool', 'date', 'votes.funny'], axis = 1)\n",
        "df_reduced.head()"
      ],
      "execution_count": 0,
      "outputs": [
        {
          "output_type": "execute_result",
          "data": {
            "text/html": [
              "<div>\n",
              "<style scoped>\n",
              "    .dataframe tbody tr th:only-of-type {\n",
              "        vertical-align: middle;\n",
              "    }\n",
              "\n",
              "    .dataframe tbody tr th {\n",
              "        vertical-align: top;\n",
              "    }\n",
              "\n",
              "    .dataframe thead th {\n",
              "        text-align: right;\n",
              "    }\n",
              "</style>\n",
              "<table border=\"1\" class=\"dataframe\">\n",
              "  <thead>\n",
              "    <tr style=\"text-align: right;\">\n",
              "      <th></th>\n",
              "      <th>user_id</th>\n",
              "      <th>review_id</th>\n",
              "      <th>business_id</th>\n",
              "      <th>stars</th>\n",
              "      <th>type</th>\n",
              "    </tr>\n",
              "  </thead>\n",
              "  <tbody>\n",
              "    <tr>\n",
              "      <th>0</th>\n",
              "      <td>Xqd0DzHaiyRqVH3WRG7hzg</td>\n",
              "      <td>15SdjuK7DmYqUAj6rjGowg</td>\n",
              "      <td>vcNAWiLM4dR7D2nwwJ7nCA</td>\n",
              "      <td>5</td>\n",
              "      <td>review</td>\n",
              "    </tr>\n",
              "    <tr>\n",
              "      <th>1</th>\n",
              "      <td>H1kH6QZV7Le4zqTRNxoZow</td>\n",
              "      <td>RF6UnRTtG7tWMcrO2GEoAg</td>\n",
              "      <td>vcNAWiLM4dR7D2nwwJ7nCA</td>\n",
              "      <td>2</td>\n",
              "      <td>review</td>\n",
              "    </tr>\n",
              "    <tr>\n",
              "      <th>2</th>\n",
              "      <td>zvJCcrpm2yOZrxKffwGQLA</td>\n",
              "      <td>-TsVN230RCkLYKBeLsuz7A</td>\n",
              "      <td>vcNAWiLM4dR7D2nwwJ7nCA</td>\n",
              "      <td>4</td>\n",
              "      <td>review</td>\n",
              "    </tr>\n",
              "    <tr>\n",
              "      <th>3</th>\n",
              "      <td>KBLW4wJA_fwoWmMhiHRVOA</td>\n",
              "      <td>dNocEAyUucjT371NNND41Q</td>\n",
              "      <td>vcNAWiLM4dR7D2nwwJ7nCA</td>\n",
              "      <td>4</td>\n",
              "      <td>review</td>\n",
              "    </tr>\n",
              "    <tr>\n",
              "      <th>4</th>\n",
              "      <td>zvJCcrpm2yOZrxKffwGQLA</td>\n",
              "      <td>ebcN2aqmNUuYNoyvQErgnA</td>\n",
              "      <td>vcNAWiLM4dR7D2nwwJ7nCA</td>\n",
              "      <td>4</td>\n",
              "      <td>review</td>\n",
              "    </tr>\n",
              "  </tbody>\n",
              "</table>\n",
              "</div>"
            ],
            "text/plain": [
              "                  user_id               review_id             business_id  \\\n",
              "0  Xqd0DzHaiyRqVH3WRG7hzg  15SdjuK7DmYqUAj6rjGowg  vcNAWiLM4dR7D2nwwJ7nCA   \n",
              "1  H1kH6QZV7Le4zqTRNxoZow  RF6UnRTtG7tWMcrO2GEoAg  vcNAWiLM4dR7D2nwwJ7nCA   \n",
              "2  zvJCcrpm2yOZrxKffwGQLA  -TsVN230RCkLYKBeLsuz7A  vcNAWiLM4dR7D2nwwJ7nCA   \n",
              "3  KBLW4wJA_fwoWmMhiHRVOA  dNocEAyUucjT371NNND41Q  vcNAWiLM4dR7D2nwwJ7nCA   \n",
              "4  zvJCcrpm2yOZrxKffwGQLA  ebcN2aqmNUuYNoyvQErgnA  vcNAWiLM4dR7D2nwwJ7nCA   \n",
              "\n",
              "   stars    type  \n",
              "0      5  review  \n",
              "1      2  review  \n",
              "2      4  review  \n",
              "3      4  review  \n",
              "4      4  review  "
            ]
          },
          "metadata": {
            "tags": []
          },
          "execution_count": 21
        }
      ]
    },
    {
      "metadata": {
        "id": "rFpT0OM8VsfJ",
        "colab_type": "text"
      },
      "cell_type": "markdown",
      "source": [
        "## 2.e. Merging the business data with the review data"
      ]
    },
    {
      "metadata": {
        "id": "bbHyT0IDVvY8",
        "colab_type": "text"
      },
      "cell_type": "markdown",
      "source": [
        "Merging the business data and the review data on the 'business_id'. Information like 'city' of the business and 'categories' of the business were taken from the business data file."
      ]
    },
    {
      "metadata": {
        "id": "duASyTrjU2Qc",
        "colab_type": "code",
        "outputId": "12b8495e-181a-40bc-cd35-e282a46928d7",
        "colab": {
          "base_uri": "https://localhost:8080/",
          "height": 204
        }
      },
      "cell_type": "code",
      "source": [
        "df_merged = df_reduced.merge(df_bus[['city','categories', 'business_id']], how = 'outer', on= 'business_id')\n",
        "df_merged.head()"
      ],
      "execution_count": 0,
      "outputs": [
        {
          "output_type": "execute_result",
          "data": {
            "text/html": [
              "<div>\n",
              "<style scoped>\n",
              "    .dataframe tbody tr th:only-of-type {\n",
              "        vertical-align: middle;\n",
              "    }\n",
              "\n",
              "    .dataframe tbody tr th {\n",
              "        vertical-align: top;\n",
              "    }\n",
              "\n",
              "    .dataframe thead th {\n",
              "        text-align: right;\n",
              "    }\n",
              "</style>\n",
              "<table border=\"1\" class=\"dataframe\">\n",
              "  <thead>\n",
              "    <tr style=\"text-align: right;\">\n",
              "      <th></th>\n",
              "      <th>user_id</th>\n",
              "      <th>review_id</th>\n",
              "      <th>business_id</th>\n",
              "      <th>stars</th>\n",
              "      <th>type</th>\n",
              "      <th>city</th>\n",
              "      <th>categories</th>\n",
              "    </tr>\n",
              "  </thead>\n",
              "  <tbody>\n",
              "    <tr>\n",
              "      <th>0</th>\n",
              "      <td>Xqd0DzHaiyRqVH3WRG7hzg</td>\n",
              "      <td>15SdjuK7DmYqUAj6rjGowg</td>\n",
              "      <td>vcNAWiLM4dR7D2nwwJ7nCA</td>\n",
              "      <td>5.0</td>\n",
              "      <td>review</td>\n",
              "      <td>Phoenix</td>\n",
              "      <td>Doctors;Health &amp; Medical</td>\n",
              "    </tr>\n",
              "    <tr>\n",
              "      <th>1</th>\n",
              "      <td>H1kH6QZV7Le4zqTRNxoZow</td>\n",
              "      <td>RF6UnRTtG7tWMcrO2GEoAg</td>\n",
              "      <td>vcNAWiLM4dR7D2nwwJ7nCA</td>\n",
              "      <td>2.0</td>\n",
              "      <td>review</td>\n",
              "      <td>Phoenix</td>\n",
              "      <td>Doctors;Health &amp; Medical</td>\n",
              "    </tr>\n",
              "    <tr>\n",
              "      <th>2</th>\n",
              "      <td>zvJCcrpm2yOZrxKffwGQLA</td>\n",
              "      <td>-TsVN230RCkLYKBeLsuz7A</td>\n",
              "      <td>vcNAWiLM4dR7D2nwwJ7nCA</td>\n",
              "      <td>4.0</td>\n",
              "      <td>review</td>\n",
              "      <td>Phoenix</td>\n",
              "      <td>Doctors;Health &amp; Medical</td>\n",
              "    </tr>\n",
              "    <tr>\n",
              "      <th>3</th>\n",
              "      <td>KBLW4wJA_fwoWmMhiHRVOA</td>\n",
              "      <td>dNocEAyUucjT371NNND41Q</td>\n",
              "      <td>vcNAWiLM4dR7D2nwwJ7nCA</td>\n",
              "      <td>4.0</td>\n",
              "      <td>review</td>\n",
              "      <td>Phoenix</td>\n",
              "      <td>Doctors;Health &amp; Medical</td>\n",
              "    </tr>\n",
              "    <tr>\n",
              "      <th>4</th>\n",
              "      <td>zvJCcrpm2yOZrxKffwGQLA</td>\n",
              "      <td>ebcN2aqmNUuYNoyvQErgnA</td>\n",
              "      <td>vcNAWiLM4dR7D2nwwJ7nCA</td>\n",
              "      <td>4.0</td>\n",
              "      <td>review</td>\n",
              "      <td>Phoenix</td>\n",
              "      <td>Doctors;Health &amp; Medical</td>\n",
              "    </tr>\n",
              "  </tbody>\n",
              "</table>\n",
              "</div>"
            ],
            "text/plain": [
              "                  user_id               review_id             business_id  \\\n",
              "0  Xqd0DzHaiyRqVH3WRG7hzg  15SdjuK7DmYqUAj6rjGowg  vcNAWiLM4dR7D2nwwJ7nCA   \n",
              "1  H1kH6QZV7Le4zqTRNxoZow  RF6UnRTtG7tWMcrO2GEoAg  vcNAWiLM4dR7D2nwwJ7nCA   \n",
              "2  zvJCcrpm2yOZrxKffwGQLA  -TsVN230RCkLYKBeLsuz7A  vcNAWiLM4dR7D2nwwJ7nCA   \n",
              "3  KBLW4wJA_fwoWmMhiHRVOA  dNocEAyUucjT371NNND41Q  vcNAWiLM4dR7D2nwwJ7nCA   \n",
              "4  zvJCcrpm2yOZrxKffwGQLA  ebcN2aqmNUuYNoyvQErgnA  vcNAWiLM4dR7D2nwwJ7nCA   \n",
              "\n",
              "   stars    type     city                categories  \n",
              "0    5.0  review  Phoenix  Doctors;Health & Medical  \n",
              "1    2.0  review  Phoenix  Doctors;Health & Medical  \n",
              "2    4.0  review  Phoenix  Doctors;Health & Medical  \n",
              "3    4.0  review  Phoenix  Doctors;Health & Medical  \n",
              "4    4.0  review  Phoenix  Doctors;Health & Medical  "
            ]
          },
          "metadata": {
            "tags": []
          },
          "execution_count": 22
        }
      ]
    },
    {
      "metadata": {
        "id": "ylUD-vI8Vxxv",
        "colab_type": "code",
        "colab": {}
      },
      "cell_type": "code",
      "source": [
        "df_cleaned = df_merged.dropna()"
      ],
      "execution_count": 0,
      "outputs": []
    },
    {
      "metadata": {
        "id": "0mhkxFRUV421",
        "colab_type": "text"
      },
      "cell_type": "markdown",
      "source": [
        "## 2.f. Getting the top Business and City for which highest number of reviews are obtained¶"
      ]
    },
    {
      "metadata": {
        "id": "v8TF-NHBV3IY",
        "colab_type": "code",
        "colab": {}
      },
      "cell_type": "code",
      "source": [
        "def topm_num_reviews_for_city_n_biz(df,m):\n",
        "    business_city_count = {}\n",
        "    n = len(df)\n",
        "    for i in range(n):\n",
        "        k1 = str(df.categories.iloc[i]).split(',')\n",
        "        k2 = df.city.iloc[i]\n",
        "        for j in k1:\n",
        "            k = (j,k2)\n",
        "            if k not in business_city_count.keys():\n",
        "                business_city_count[k] = 1\n",
        "            else:\n",
        "                business_city_count[k] += 1\n",
        "    business_city_count_series = pd.Series(business_city_count)\n",
        "    business_city_count_series.sort_values(ascending = False, inplace = True)\n",
        "    return business_city_count_series"
      ],
      "execution_count": 0,
      "outputs": []
    },
    {
      "metadata": {
        "id": "2H0c7qO7V7PO",
        "colab_type": "code",
        "outputId": "18ab03b2-f949-4eaf-c9e5-ad8450417435",
        "colab": {
          "base_uri": "https://localhost:8080/",
          "height": 727
        }
      },
      "cell_type": "code",
      "source": [
        "review_business_city = topm_num_reviews_for_city_n_biz(df_cleaned,10)\n",
        "review_business_city[:30].plot(kind = 'bar')"
      ],
      "execution_count": 0,
      "outputs": [
        {
          "output_type": "execute_result",
          "data": {
            "text/plain": [
              "<matplotlib.axes._subplots.AxesSubplot at 0x7f52deb28898>"
            ]
          },
          "metadata": {
            "tags": []
          },
          "execution_count": 25
        },
        {
          "output_type": "display_data",
          "data": {
            "image/png": "[encoded data removed]",
            "text/plain": [
              "<Figure size 432x288 with 1 Axes>"
            ]
          },
          "metadata": {
            "tags": []
          }
        }
      ]
    },
    {
      "metadata": {
        "id": "rMf7UQm6V8_c",
        "colab_type": "code",
        "outputId": "89933d39-9e59-4f8d-c643-8d48fbfe922f",
        "colab": {
          "base_uri": "https://localhost:8080/",
          "height": 34
        }
      },
      "cell_type": "code",
      "source": [
        "rest_phoenix_reviews = df_cleaned[(df_cleaned.city == 'Phoenix') & (df_cleaned.categories.str.contains('.Restaurant.', case= False))]\n",
        "rest_phoenix_reviews.shape"
      ],
      "execution_count": 0,
      "outputs": [
        {
          "output_type": "execute_result",
          "data": {
            "text/plain": [
              "(114865, 7)"
            ]
          },
          "metadata": {
            "tags": []
          },
          "execution_count": 26
        }
      ]
    },
    {
      "metadata": {
        "id": "Ogqj6WSsWKSe",
        "colab_type": "code",
        "outputId": "6343f98c-4fec-4f14-ec62-f6a85d07a950",
        "colab": {
          "base_uri": "https://localhost:8080/",
          "height": 34
        }
      },
      "cell_type": "code",
      "source": [
        "rest_Scottsdale_reviews = df_cleaned[(df_cleaned.city == 'Scottsdale') & (df_cleaned.categories.str.contains('.Restaurant.', case= False))]\n",
        "rest_Scottsdale_reviews.shape"
      ],
      "execution_count": 0,
      "outputs": [
        {
          "output_type": "execute_result",
          "data": {
            "text/plain": [
              "(63075, 7)"
            ]
          },
          "metadata": {
            "tags": []
          },
          "execution_count": 37
        }
      ]
    },
    {
      "metadata": {
        "id": "Au25hI1BWM1B",
        "colab_type": "code",
        "colab": {}
      },
      "cell_type": "code",
      "source": [
        "def get_clean_df(df, min_user_review = 30, min_res_review = 0, cols = ['user_id', 'business_id', 'stars']):\n",
        "    '''Cleans the df and gets rid of the unwanted cols and also allows to filter the user and business based on the min number of reviews received'''\n",
        "    df_new = df[cols]\n",
        "    df_new.dropna(axis = 0, how = 'any', inplace = True)\n",
        "    df_new[cols[1]+'_freq'] = df_new.groupby(cols[1])[cols[1]].transform('count')\n",
        "    df_clean = df_new[df_new[cols[1]+'_freq']>=min_res_review]\n",
        "    df_clean[cols[0]+'_freq'] = df_clean.groupby(cols[0])[cols[0]].transform('count')\n",
        "    df_clean_2 = df_clean[df_clean[cols[0]+'_freq']>=min_user_review]\n",
        "    return df_clean_2"
      ],
      "execution_count": 0,
      "outputs": []
    },
    {
      "metadata": {
        "id": "E9lxJ7C_WP5p",
        "colab_type": "code",
        "colab": {}
      },
      "cell_type": "code",
      "source": [
        "def get_sparsity(sparse_matrix):\n",
        "    return 1 - sparse_matrix.nnz/(sparse_matrix.shape[0]*sparse_matrix.shape[1])"
      ],
      "execution_count": 0,
      "outputs": []
    },
    {
      "metadata": {
        "id": "Jtr0pgEhWiyU",
        "colab_type": "text"
      },
      "cell_type": "markdown",
      "source": [
        "Defining sparse matrix:"
      ]
    },
    {
      "metadata": {
        "id": "bnlAauTjWRbQ",
        "colab_type": "code",
        "colab": {}
      },
      "cell_type": "code",
      "source": [
        "def get_sparse_matrix(df):\n",
        "    '''Converts the df into a sparse ratings matrix'''\n",
        "    unique_users = list(df['user_id'].unique())\n",
        "    unique_bus = list(df['business_id'].unique())\n",
        "    data = df['stars'].tolist()\n",
        "    row = df['user_id'].astype('category', categories=unique_users).cat.codes\n",
        "    col = df['business_id'].astype('category', categories=unique_bus).cat.codes\n",
        "    sparse_matrix = csr_matrix((data, (row, col)), shape=(len(unique_users), len(unique_bus)))\n",
        "    return sparse_matrix"
      ],
      "execution_count": 0,
      "outputs": []
    },
    {
      "metadata": {
        "id": "wxymFwxcWSyA",
        "colab_type": "code",
        "outputId": "00ae54f3-61c5-4454-9aa8-a1a27b0bcdb2",
        "colab": {
          "base_uri": "https://localhost:8080/",
          "height": 360
        }
      },
      "cell_type": "code",
      "source": [
        "u_20_phx = get_sparse_matrix(get_clean_df(rest_phoenix_reviews, min_user_review=20))\n",
        "u_30_phx = get_sparse_matrix(get_clean_df(rest_phoenix_reviews, min_user_review=30))\n",
        "print(get_sparsity(u_20_phx))\n",
        "print(get_sparsity(u_30_phx))\n",
        "print(u_20_phx.shape)\n",
        "print(u_30_phx.shape)"
      ],
      "execution_count": 0,
      "outputs": [
        {
          "output_type": "stream",
          "text": [
            "/usr/local/lib/python3.6/dist-packages/ipykernel_launcher.py:4: SettingWithCopyWarning: \n",
            "A value is trying to be set on a copy of a slice from a DataFrame\n",
            "\n",
            "See the caveats in the documentation: http://pandas.pydata.org/pandas-docs/stable/indexing.html#indexing-view-versus-copy\n",
            "  after removing the cwd from sys.path.\n",
            "/usr/local/lib/python3.6/dist-packages/ipykernel_launcher.py:5: SettingWithCopyWarning: \n",
            "A value is trying to be set on a copy of a slice from a DataFrame.\n",
            "Try using .loc[row_indexer,col_indexer] = value instead\n",
            "\n",
            "See the caveats in the documentation: http://pandas.pydata.org/pandas-docs/stable/indexing.html#indexing-view-versus-copy\n",
            "  \"\"\"\n",
            "/usr/local/lib/python3.6/dist-packages/ipykernel_launcher.py:6: FutureWarning: specifying 'categories' or 'ordered' in .astype() is deprecated; pass a CategoricalDtype instead\n",
            "  \n",
            "/usr/local/lib/python3.6/dist-packages/ipykernel_launcher.py:7: FutureWarning: specifying 'categories' or 'ordered' in .astype() is deprecated; pass a CategoricalDtype instead\n",
            "  import sys\n"
          ],
          "name": "stderr"
        },
        {
          "output_type": "stream",
          "text": [
            "0.9818778076668103\n",
            "0.9745633107311321\n",
            "(773, 2129)\n",
            "(424, 2048)\n"
          ],
          "name": "stdout"
        }
      ]
    },
    {
      "metadata": {
        "id": "aI6i1hIBWn2n",
        "colab_type": "code",
        "outputId": "f2461265-a120-4ca2-b2a6-a403254de5ca",
        "colab": {
          "base_uri": "https://localhost:8080/",
          "height": 238
        }
      },
      "cell_type": "code",
      "source": [
        "user_min_10_phoenix_res = get_clean_df(rest_phoenix_reviews, min_user_review=10)\n",
        "print(\"Number of Reviews for Restaurants in Phoenix: \", user_min_10_phoenix_res.shape[0])\n",
        "user_min_10_Scottsdale_res = get_clean_df(rest_Scottsdale_reviews, min_user_review=10)\n",
        "print(\"Number of Reviews for Restaurants in Scottsdale: \", user_min_10_Scottsdale_res.shape[0])"
      ],
      "execution_count": 0,
      "outputs": [
        {
          "output_type": "stream",
          "text": [
            "/usr/local/lib/python3.6/dist-packages/ipykernel_launcher.py:4: SettingWithCopyWarning: \n",
            "A value is trying to be set on a copy of a slice from a DataFrame\n",
            "\n",
            "See the caveats in the documentation: http://pandas.pydata.org/pandas-docs/stable/indexing.html#indexing-view-versus-copy\n",
            "  after removing the cwd from sys.path.\n",
            "/usr/local/lib/python3.6/dist-packages/ipykernel_launcher.py:5: SettingWithCopyWarning: \n",
            "A value is trying to be set on a copy of a slice from a DataFrame.\n",
            "Try using .loc[row_indexer,col_indexer] = value instead\n",
            "\n",
            "See the caveats in the documentation: http://pandas.pydata.org/pandas-docs/stable/indexing.html#indexing-view-versus-copy\n",
            "  \"\"\"\n"
          ],
          "name": "stderr"
        },
        {
          "output_type": "stream",
          "text": [
            "Number of Reviews for Restaurants in Phoenix:  48818\n",
            "Number of Reviews for Restaurants in Scottsdale:  21425\n"
          ],
          "name": "stdout"
        }
      ]
    },
    {
      "metadata": {
        "id": "mpMaqhxLWruc",
        "colab_type": "code",
        "outputId": "5403d83f-f477-42c2-9c5f-ea6a5e2620eb",
        "colab": {
          "base_uri": "https://localhost:8080/",
          "height": 85
        }
      },
      "cell_type": "code",
      "source": [
        "print(\"Unique Restaurants in Phoenix =\",len(user_min_10_phoenix_res.business_id.unique()))\n",
        "print(\"Unique Users in Phoenix =\",len(user_min_10_phoenix_res.user_id.unique()))\n",
        "print(\"Unique Restaurants in Scottsdale =\",len(user_min_10_Scottsdale_res.business_id.unique()))\n",
        "print(\"Unique Users in Scottsdale =\",len(user_min_10_Scottsdale_res.user_id.unique()))"
      ],
      "execution_count": 0,
      "outputs": [
        {
          "output_type": "stream",
          "text": [
            "Unique Restaurants in Phoenix = 2227\n",
            "Unique Users in Phoenix = 2015\n",
            "Unique Restaurants in Scottsdale = 910\n",
            "Unique Users in Scottsdale = 949\n"
          ],
          "name": "stdout"
        }
      ]
    },
    {
      "metadata": {
        "id": "ohdEAffMWuOw",
        "colab_type": "code",
        "outputId": "829f499f-877f-408a-d461-357331e316c2",
        "colab": {
          "base_uri": "https://localhost:8080/",
          "height": 139
        }
      },
      "cell_type": "code",
      "source": [
        "sm_user_10_phoenix_rest = get_sparse_matrix(user_min_10_phoenix_res)\n",
        "print(\"Shape of ratings matrix for Restaurants in Phoenix =\",sm_user_10_phoenix_rest.shape)\n",
        "sm_user_10_Scottsdale_rest = get_sparse_matrix(user_min_10_Scottsdale_res)\n",
        "print(\"Shape of ratings matrix for Restaurants in Scottsdale =\",sm_user_10_Scottsdale_rest.shape)"
      ],
      "execution_count": 0,
      "outputs": [
        {
          "output_type": "stream",
          "text": [
            "Shape of ratings matrix for Restaurants in Phoenix = (2015, 2227)\n",
            "Shape of ratings matrix for Restaurants in Scottsdale = (949, 910)\n"
          ],
          "name": "stdout"
        },
        {
          "output_type": "stream",
          "text": [
            "/usr/local/lib/python3.6/dist-packages/ipykernel_launcher.py:6: FutureWarning: specifying 'categories' or 'ordered' in .astype() is deprecated; pass a CategoricalDtype instead\n",
            "  \n",
            "/usr/local/lib/python3.6/dist-packages/ipykernel_launcher.py:7: FutureWarning: specifying 'categories' or 'ordered' in .astype() is deprecated; pass a CategoricalDtype instead\n",
            "  import sys\n"
          ],
          "name": "stderr"
        }
      ]
    },
    {
      "metadata": {
        "id": "LJiEKSa5WyM7",
        "colab_type": "code",
        "outputId": "79c02035-f3b8-4adc-e498-6955ee1480a6",
        "colab": {
          "base_uri": "https://localhost:8080/",
          "height": 51
        }
      },
      "cell_type": "code",
      "source": [
        "sparsity_phoenix = 1 - sm_user_10_phoenix_rest.nnz/(sm_user_10_phoenix_rest.shape[0]*sm_user_10_phoenix_rest.shape[1])\n",
        "sparsity_Scottsdale = 1 - sm_user_10_Scottsdale_rest.nnz/(sm_user_10_Scottsdale_rest.shape[0]*sm_user_10_Scottsdale_rest.shape[1])\n",
        "print(\"Sparsity of ratings matrix for Restaurants in Phoenix = \", sparsity_phoenix)\n",
        "print(\"Sparsity of ratings matrix for Restaurants in Scottsdale = \", sparsity_Scottsdale)"
      ],
      "execution_count": 0,
      "outputs": [
        {
          "output_type": "stream",
          "text": [
            "Sparsity of ratings matrix for Restaurants in Phoenix =  0.989887028249066\n",
            "Sparsity of ratings matrix for Restaurants in Scottsdale =  0.9768883382160516\n"
          ],
          "name": "stdout"
        }
      ]
    },
    {
      "metadata": {
        "id": "nqPX-Yq1W06D",
        "colab_type": "code",
        "colab": {}
      },
      "cell_type": "code",
      "source": [
        "def train_val_test_split(sparse_matrix, num_review_val = 2, num_review_test = 2):\n",
        "    '''Split the rating matrix into train ,val, and test marix that are disjoint matrices'''\n",
        "    nzrows, nzcols =  sparse_matrix.nonzero()\n",
        "    sparse_matrix_test = csr_matrix(sparse_matrix.shape)\n",
        "    sparse_matrix_val = csr_matrix(sparse_matrix.shape)\n",
        "    sparse_matrix_train = sparse_matrix.copy()\n",
        "    n_users = sparse_matrix.shape[0]\n",
        "    for u in range(n_users):\n",
        "        idx = nzcols[np.where(nzrows == u)]\n",
        "        np.random.shuffle(idx)\n",
        "        test_idx = idx[-num_review_test:]\n",
        "        val_idx = idx[-(num_review_val+num_review_test):-num_review_test]\n",
        "        train_idx = idx[:-(num_review_val+num_review_test)]\n",
        "        sparse_matrix_test[u,test_idx] = sparse_matrix[u,test_idx]\n",
        "        sparse_matrix_val[u,val_idx] = sparse_matrix[u,val_idx]\n",
        "        sparse_matrix_train[u,test_idx] = 0\n",
        "        sparse_matrix_train[u,val_idx] = 0\n",
        "    data = np.array(sparse_matrix_train[sparse_matrix_train.nonzero()])[0]\n",
        "    row = sparse_matrix_train.nonzero()[0]\n",
        "    col = sparse_matrix_train.nonzero()[1]\n",
        "    size = sparse_matrix_train.shape\n",
        "    sparse_matrix_train = csr_matrix((data,(row,col)),shape = size)\n",
        "    mult = sparse_matrix_train.multiply(sparse_matrix_val)\n",
        "    mmult = mult.multiply(sparse_matrix_test)\n",
        "    assert(mmult.nnz == 0)\n",
        "    return sparse_matrix_train, sparse_matrix_val, sparse_matrix_test"
      ],
      "execution_count": 0,
      "outputs": []
    },
    {
      "metadata": {
        "id": "yjmaCM80YUo8",
        "colab_type": "code",
        "outputId": "7b71304b-377d-46b0-efd0-56ed73a36159",
        "colab": {
          "base_uri": "https://localhost:8080/",
          "height": 71
        }
      },
      "cell_type": "code",
      "source": [
        "sm_u_10_phx_res_train, sm_u_10_phx_res_val, sm_u_10_phx_res_test = train_val_test_split(sm_user_10_phoenix_rest)\n",
        "sm_u_10_sct_res_train, sm_u_10_sct_res_val, sm_u_10_sct_res_test =  train_val_test_split(sm_user_10_Scottsdale_rest)"
      ],
      "execution_count": 0,
      "outputs": [
        {
          "output_type": "stream",
          "text": [
            "/usr/local/lib/python3.6/dist-packages/scipy/sparse/compressed.py:746: SparseEfficiencyWarning: Changing the sparsity structure of a csr_matrix is expensive. lil_matrix is more efficient.\n",
            "  SparseEfficiencyWarning)\n"
          ],
          "name": "stderr"
        }
      ]
    },
    {
      "metadata": {
        "id": "GlteR7WvYkI6",
        "colab_type": "code",
        "outputId": "b9deaf89-3312-47e1-a4b3-13f5790bdee8",
        "colab": {
          "base_uri": "https://localhost:8080/",
          "height": 51
        }
      },
      "cell_type": "code",
      "source": [
        "print(sm_u_10_phx_res_train.nnz, sm_u_10_phx_res_val.nnz, sm_u_10_phx_res_test.nnz)\n",
        "print(sm_u_10_sct_res_train.nnz, sm_u_10_sct_res_val.nnz, sm_u_10_sct_res_test.nnz)"
      ],
      "execution_count": 0,
      "outputs": [
        {
          "output_type": "stream",
          "text": [
            "37321 4030 4030\n",
            "16163 1898 1898\n"
          ],
          "name": "stdout"
        }
      ]
    },
    {
      "metadata": {
        "id": "bQ0KsZ-tYqnI",
        "colab_type": "code",
        "outputId": "845db714-c591-43c8-abec-5cb4568cd700",
        "colab": {
          "base_uri": "https://localhost:8080/",
          "height": 71
        }
      },
      "cell_type": "code",
      "source": [
        "u_20_train, u_20_val, u_20_test = train_val_test_split(u_20_phx, num_review_val= 7, num_review_test= 3)"
      ],
      "execution_count": 0,
      "outputs": [
        {
          "output_type": "stream",
          "text": [
            "/usr/local/lib/python3.6/dist-packages/scipy/sparse/compressed.py:746: SparseEfficiencyWarning: Changing the sparsity structure of a csr_matrix is expensive. lil_matrix is more efficient.\n",
            "  SparseEfficiencyWarning)\n"
          ],
          "name": "stderr"
        }
      ]
    },
    {
      "metadata": {
        "id": "4Jdbx5KCY2KZ",
        "colab_type": "text"
      },
      "cell_type": "markdown",
      "source": [
        "# 3. Model Building:"
      ]
    },
    {
      "metadata": {
        "id": "_3sj3lM6Y6dZ",
        "colab_type": "text"
      },
      "cell_type": "markdown",
      "source": [
        "## 3.1 SVD"
      ]
    },
    {
      "metadata": {
        "id": "2khg4XdAY-eZ",
        "colab_type": "text"
      },
      "cell_type": "markdown",
      "source": [
        "**For Restaurants in Phoenix**"
      ]
    },
    {
      "metadata": {
        "id": "Gzqe7KJPYzfc",
        "colab_type": "code",
        "colab": {}
      },
      "cell_type": "code",
      "source": [
        "U_phx_res, S_phx_res, Vt_phx_res = np.linalg.svd(sm_u_10_phx_res_train.todense())#k = min(sm_u_10_phx_res_train.shape)-1)"
      ],
      "execution_count": 0,
      "outputs": []
    },
    {
      "metadata": {
        "id": "PpGNEbQJZEmi",
        "colab_type": "code",
        "outputId": "a075ecab-916f-4f04-e7f1-ae18193322c9",
        "colab": {
          "base_uri": "https://localhost:8080/",
          "height": 51
        }
      },
      "cell_type": "code",
      "source": [
        "print(\"smallest singular value = \",min(S_phx_res))\n",
        "print(\"largest singular value = \",max(S_phx_res))\n",
        "S_phx_res_dia = np.diag(S_phx_res)"
      ],
      "execution_count": 0,
      "outputs": [
        {
          "output_type": "stream",
          "text": [
            "smallest singular value =  0.0005320143386830581\n",
            "largest singular value =  227.95077228234675\n"
          ],
          "name": "stdout"
        }
      ]
    },
    {
      "metadata": {
        "id": "YJKlBpg3ZIkJ",
        "colab_type": "text"
      },
      "cell_type": "markdown",
      "source": [
        "**Printing top 20 singular values**"
      ]
    },
    {
      "metadata": {
        "id": "fpoFfBFGZHjM",
        "colab_type": "code",
        "outputId": "2976e20b-575e-4cc4-9188-fb2714b03b11",
        "colab": {
          "base_uri": "https://localhost:8080/",
          "height": 349
        }
      },
      "cell_type": "code",
      "source": [
        "fig = plt.figure(figsize=(8,5))\n",
        "plt.plot(S_phx_res[:20], '-', linewidth=1)\n",
        "plt.title('Elbow Plot')\n",
        "# plt.xticks(np.arange(0, S_phx_res.shape[0]+1, 50), rotation='vertical')\n",
        "plt.xlabel('Principal Component')\n",
        "plt.ylabel('Singular Values')\n",
        "plt.show()"
      ],
      "execution_count": 0,
      "outputs": [
        {
          "output_type": "display_data",
          "data": {
            "image/png": "[encoded data removed]",
            "text/plain": [
              "<Figure size 576x360 with 1 Axes>"
            ]
          },
          "metadata": {
            "tags": []
          }
        }
      ]
    },
    {
      "metadata": {
        "id": "HZCloi4-ZQq0",
        "colab_type": "text"
      },
      "cell_type": "markdown",
      "source": [
        "**For Restaurants in Scottsdale**"
      ]
    },
    {
      "metadata": {
        "id": "SHNyao-7ZMlX",
        "colab_type": "code",
        "colab": {}
      },
      "cell_type": "code",
      "source": [
        "U_sct_res, S_sct_res, Vt_sct_res = np.linalg.svd(sm_u_10_sct_res_train.todense())#k = min(sm_u_10_phx_res_train.shape)-1)"
      ],
      "execution_count": 0,
      "outputs": []
    },
    {
      "metadata": {
        "id": "siZBRRx_ZaCT",
        "colab_type": "code",
        "outputId": "e67a7dc9-0481-404c-82de-779549919a83",
        "colab": {
          "base_uri": "https://localhost:8080/",
          "height": 51
        }
      },
      "cell_type": "code",
      "source": [
        "print(\"smallest singular value = \",min(S_sct_res))\n",
        "print(\"largest singular value = \",max(S_sct_res))\n",
        "S_sct_res_dia = np.diag(S_sct_res)"
      ],
      "execution_count": 0,
      "outputs": [
        {
          "output_type": "stream",
          "text": [
            "smallest singular value =  1.3437555356143498e-14\n",
            "largest singular value =  171.86657448472008\n"
          ],
          "name": "stdout"
        }
      ]
    },
    {
      "metadata": {
        "id": "JS9Cz4qAZhiO",
        "colab_type": "text"
      },
      "cell_type": "markdown",
      "source": [
        "\n",
        "**Printing top 20 singular values**"
      ]
    },
    {
      "metadata": {
        "id": "dWXqxPkWZfZt",
        "colab_type": "code",
        "outputId": "64a9bf6e-21d9-411b-e1f4-eee9dad1219e",
        "colab": {
          "base_uri": "https://localhost:8080/",
          "height": 349
        }
      },
      "cell_type": "code",
      "source": [
        "fig = plt.figure(figsize=(8,5))\n",
        "plt.plot(S_sct_res[:20], '-', linewidth=1)\n",
        "plt.title('Elbow Plot')\n",
        "# plt.xticks(np.arange(0, S_phx_res.shape[0]+1, 50), rotation='vertical')\n",
        "plt.xlabel('Principal Component')\n",
        "plt.ylabel('Singular Values')\n",
        "plt.show()"
      ],
      "execution_count": 0,
      "outputs": [
        {
          "output_type": "display_data",
          "data": {
            "image/png": "[encoded data removed]",
            "text/plain": [
              "<Figure size 576x360 with 1 Axes>"
            ]
          },
          "metadata": {
            "tags": []
          }
        }
      ]
    },
    {
      "metadata": {
        "id": "mHi7FetkZrDi",
        "colab_type": "text"
      },
      "cell_type": "markdown",
      "source": [
        "Approimate error function:"
      ]
    },
    {
      "metadata": {
        "id": "nwg1YoejZoW9",
        "colab_type": "code",
        "colab": {}
      },
      "cell_type": "code",
      "source": [
        "def approx_err(k, A, U, S, Vt):\n",
        "    rec_A = np.dot(U[:, :k], np.dot(S[:k,:k], Vt[:k, :]))\n",
        "    idx = np.where(A>0);\n",
        "    diff = A[idx] - rec_A[idx]\n",
        "    return np.linalg.norm(diff)**2/diff.shape[1]"
      ],
      "execution_count": 0,
      "outputs": []
    },
    {
      "metadata": {
        "id": "eklOK6G3ZzZG",
        "colab_type": "text"
      },
      "cell_type": "markdown",
      "source": [
        "\n",
        "## For Restaurants in Phoenix"
      ]
    },
    {
      "metadata": {
        "id": "V7eZG9bFZvkf",
        "colab_type": "code",
        "outputId": "1f5adf21-a267-4869-fe8e-b00df453cf50",
        "colab": {
          "base_uri": "https://localhost:8080/",
          "height": 296
        }
      },
      "cell_type": "code",
      "source": [
        "k = np.linspace(2,40,20, dtype = int)\n",
        "errors_svd_val = {}\n",
        "errors_svd_train = {}\n",
        "for i in k:\n",
        "    errors_svd_val[i] = approx_err(i, sm_u_10_phx_res_val.todense(), U_phx_res, S_phx_res_dia, Vt_phx_res)\n",
        "    errors_svd_train[i] = approx_err(i, sm_u_10_phx_res_train.todense(), U_phx_res, S_phx_res_dia, Vt_phx_res)\n",
        "\n",
        "plt.plot(errors_svd_val.keys(),errors_svd_val.values(), label = 'Validation')\n",
        "plt.plot(errors_svd_train.keys(),errors_svd_train.values(), label = 'Train')\n",
        "plt.xlabel('k')\n",
        "plt.ylabel('MSE')\n",
        "plt.legend()"
      ],
      "execution_count": 0,
      "outputs": [
        {
          "output_type": "execute_result",
          "data": {
            "text/plain": [
              "<matplotlib.legend.Legend at 0x7f52daa305c0>"
            ]
          },
          "metadata": {
            "tags": []
          },
          "execution_count": 59
        },
        {
          "output_type": "display_data",
          "data": {
            "image/png": "[encoded data removed]",
            "text/plain": [
              "<Figure size 432x288 with 1 Axes>"
            ]
          },
          "metadata": {
            "tags": []
          }
        }
      ]
    },
    {
      "metadata": {
        "id": "VhWOw2JRZ1k-",
        "colab_type": "code",
        "outputId": "35a88673-3365-4b19-b1e3-ff5d9b9239ed",
        "colab": {
          "base_uri": "https://localhost:8080/",
          "height": 296
        }
      },
      "cell_type": "code",
      "source": [
        "##Separately plotting the Validation error\n",
        "plt.plot(errors_svd_val.keys(),errors_svd_val.values(), label = 'Validation')\n",
        "plt.xlabel('k')\n",
        "plt.ylabel('MSE')\n",
        "plt.legend()\n",
        "plt.legend()"
      ],
      "execution_count": 0,
      "outputs": [
        {
          "output_type": "execute_result",
          "data": {
            "text/plain": [
              "<matplotlib.legend.Legend at 0x7f52da99a908>"
            ]
          },
          "metadata": {
            "tags": []
          },
          "execution_count": 60
        },
        {
          "output_type": "display_data",
          "data": {
            "image/png": "[encoded data removed]",
            "text/plain": [
              "<Figure size 432x288 with 1 Axes>"
            ]
          },
          "metadata": {
            "tags": []
          }
        }
      ]
    },
    {
      "metadata": {
        "id": "Yp1pxjNqZ4_w",
        "colab_type": "code",
        "outputId": "4a6ffd10-1365-424f-e34f-7e3e90346657",
        "colab": {
          "base_uri": "https://localhost:8080/",
          "height": 296
        }
      },
      "cell_type": "code",
      "source": [
        "plt.scatter(np.ravel(U_phx_res[:,0]),np.ravel(U_phx_res[:,1]), label = 'Scatter plot for first two PCs')\n",
        "plt.xlabel('Principal Component 1')\n",
        "plt.ylabel('Principal Component 2')"
      ],
      "execution_count": 0,
      "outputs": [
        {
          "output_type": "execute_result",
          "data": {
            "text/plain": [
              "Text(0, 0.5, 'Principal Component 2')"
            ]
          },
          "metadata": {
            "tags": []
          },
          "execution_count": 61
        },
        {
          "output_type": "display_data",
          "data": {
            "image/png": "[encoded data removed]",
            "text/plain": [
              "<Figure size 432x288 with 1 Axes>"
            ]
          },
          "metadata": {
            "tags": []
          }
        }
      ]
    },
    {
      "metadata": {
        "id": "KEsVTXzdZ9Hc",
        "colab_type": "text"
      },
      "cell_type": "markdown",
      "source": [
        "**Best Validation MSE for SVD**"
      ]
    },
    {
      "metadata": {
        "id": "AC4bTJF4Z7DG",
        "colab_type": "code",
        "outputId": "d3f91500-045b-4c31-abde-2e519b297e95",
        "colab": {
          "base_uri": "https://localhost:8080/",
          "height": 34
        }
      },
      "cell_type": "code",
      "source": [
        "Best_Val_MSE_SVD_Phx = approx_err(10, sm_u_10_phx_res_val.todense(), U_phx_res, S_phx_res_dia, Vt_phx_res)\n",
        "print('Best Validation MSE for SVD for Restaurants in Phoenix= ', Best_Val_MSE_SVD_Phx)"
      ],
      "execution_count": 0,
      "outputs": [
        {
          "output_type": "stream",
          "text": [
            "Best Validation MSE for SVD for Restaurants in Phoenix=  17.19524313333571\n"
          ],
          "name": "stdout"
        }
      ]
    },
    {
      "metadata": {
        "id": "1kzx4fpvaCdK",
        "colab_type": "text"
      },
      "cell_type": "markdown",
      "source": [
        "**Non Zero Indices in Train, Val and Test**"
      ]
    },
    {
      "metadata": {
        "id": "nb7izc3MZ_Yd",
        "colab_type": "code",
        "colab": {}
      },
      "cell_type": "code",
      "source": [
        "train_phx_nnz = sm_u_10_phx_res_train.nonzero()\n",
        "val_phx_nnz = sm_u_10_phx_res_val.nonzero()\n",
        "test_phx_nnz = sm_u_10_phx_res_test.nonzero()"
      ],
      "execution_count": 0,
      "outputs": []
    },
    {
      "metadata": {
        "id": "e1i67AO9aEad",
        "colab_type": "code",
        "colab": {}
      },
      "cell_type": "code",
      "source": [
        "recon_matrix_svd_phx = np.dot(U_phx_res[:, :10], np.dot(S_phx_res_dia[:10,:10], Vt_phx_res[:10, :]))\n",
        "train_preds_svd_phx = np.ravel(recon_matrix_svd_phx[train_phx_nnz])\n",
        "val_preds_svd_phx = np.ravel(recon_matrix_svd_phx[val_phx_nnz])\n",
        "test_preds_svd_phx = np.ravel(recon_matrix_svd_phx[test_phx_nnz])"
      ],
      "execution_count": 0,
      "outputs": []
    },
    {
      "metadata": {
        "id": "Yh8TFvmvaJFn",
        "colab_type": "text"
      },
      "cell_type": "markdown",
      "source": [
        "\n",
        "# For Restaurants in Scottsdale"
      ]
    },
    {
      "metadata": {
        "id": "ygoPhoUlaHRL",
        "colab_type": "code",
        "outputId": "80e3d518-6bb9-446f-de19-39aaf5a48103",
        "colab": {
          "base_uri": "https://localhost:8080/",
          "height": 282
        }
      },
      "cell_type": "code",
      "source": [
        "k = np.linspace(2,40,20, dtype = int)\n",
        "errors_svd_val_sct = {}\n",
        "errors_svd_train_sct = {}\n",
        "for i in k:\n",
        "    errors_svd_val_sct[i] = approx_err(i, sm_u_10_sct_res_val.todense(), U_sct_res, S_sct_res_dia, Vt_sct_res)\n",
        "    errors_svd_train_sct[i] = approx_err(i, sm_u_10_sct_res_train.todense(), U_sct_res, S_sct_res_dia, Vt_sct_res)\n",
        "\n",
        "plt.plot(errors_svd_val_sct.keys(),errors_svd_val_sct.values(), label = 'Validation')\n",
        "plt.plot(errors_svd_train_sct.keys(),errors_svd_train_sct.values(), label = 'Train')\n",
        "plt.legend()"
      ],
      "execution_count": 0,
      "outputs": [
        {
          "output_type": "execute_result",
          "data": {
            "text/plain": [
              "<matplotlib.legend.Legend at 0x7f52da8f40b8>"
            ]
          },
          "metadata": {
            "tags": []
          },
          "execution_count": 67
        },
        {
          "output_type": "display_data",
          "data": {
            "image/png": "[encoded data removed]",
            "text/plain": [
              "<Figure size 432x288 with 1 Axes>"
            ]
          },
          "metadata": {
            "tags": []
          }
        }
      ]
    },
    {
      "metadata": {
        "id": "-8lLaWi4a4kW",
        "colab_type": "text"
      },
      "cell_type": "markdown",
      "source": [
        "However the Validation Error increases after each stages in this"
      ]
    },
    {
      "metadata": {
        "id": "S5owm9-OafQA",
        "colab_type": "code",
        "outputId": "30e06b06-288f-4496-f1ee-930d86f29594",
        "colab": {
          "base_uri": "https://localhost:8080/",
          "height": 282
        }
      },
      "cell_type": "code",
      "source": [
        "##Separately plotting the Validation error\n",
        "plt.plot(errors_svd_val_sct.keys(),errors_svd_val_sct.values(), label = 'Validation')"
      ],
      "execution_count": 0,
      "outputs": [
        {
          "output_type": "execute_result",
          "data": {
            "text/plain": [
              "[<matplotlib.lines.Line2D at 0x7f52da858278>]"
            ]
          },
          "metadata": {
            "tags": []
          },
          "execution_count": 69
        },
        {
          "output_type": "display_data",
          "data": {
            "image/png": "[encoded data removed]",
            "text/plain": [
              "<Figure size 432x288 with 1 Axes>"
            ]
          },
          "metadata": {
            "tags": []
          }
        }
      ]
    },
    {
      "metadata": {
        "id": "rha3cy9xcVP8",
        "colab_type": "text"
      },
      "cell_type": "markdown",
      "source": [
        "Best Validation MSE for SVD"
      ]
    },
    {
      "metadata": {
        "id": "IoGmn7i6axYt",
        "colab_type": "code",
        "outputId": "151f8170-27d5-4944-d4f7-431cc7aa14c1",
        "colab": {
          "base_uri": "https://localhost:8080/",
          "height": 34
        }
      },
      "cell_type": "code",
      "source": [
        "Best_Val_MSE_SVD_sct = approx_err(16, sm_u_10_sct_res_val.todense(), U_sct_res, S_sct_res_dia, Vt_sct_res)\n",
        "print('Best Validation MSE for SVD for Restaurants Scottsdale', Best_Val_MSE_SVD_sct)"
      ],
      "execution_count": 0,
      "outputs": [
        {
          "output_type": "stream",
          "text": [
            "Best Validation MSE for SVD for Restaurants Scottsdale 16.68550995321838\n"
          ],
          "name": "stdout"
        }
      ]
    },
    {
      "metadata": {
        "id": "Y1sRmy4Zc4Xu",
        "colab_type": "code",
        "colab": {}
      },
      "cell_type": "code",
      "source": [
        "train_sct_nnz = sm_u_10_sct_res_train.nonzero()\n",
        "val_sct_nnz = sm_u_10_sct_res_val.nonzero()\n",
        "test_sct_nnz = sm_u_10_sct_res_test.nonzero()"
      ],
      "execution_count": 0,
      "outputs": []
    },
    {
      "metadata": {
        "id": "UFc9KhmmtbLq",
        "colab_type": "code",
        "colab": {}
      },
      "cell_type": "code",
      "source": [
        "recon_matrix_svd_sct = np.dot(U_sct_res[:, :15], np.dot(S_sct_res_dia[:15,:15], Vt_sct_res[:15, :]))\n",
        "train_preds_svd_sct = np.ravel(recon_matrix_svd_sct[train_sct_nnz])\n",
        "val_preds_svd_sct = np.ravel(recon_matrix_svd_sct[val_sct_nnz])\n",
        "test_preds_svd_sct = np.ravel(recon_matrix_svd_sct[test_sct_nnz])"
      ],
      "execution_count": 0,
      "outputs": []
    },
    {
      "metadata": {
        "id": "HY50MfJzdXNB",
        "colab_type": "text"
      },
      "cell_type": "markdown",
      "source": [
        "## SVD with bias correction"
      ]
    },
    {
      "metadata": {
        "id": "gPZzjYrLdFzK",
        "colab_type": "code",
        "outputId": "52997a1c-f5fc-4350-ffbf-0937a03afcb2",
        "colab": {
          "base_uri": "https://localhost:8080/",
          "height": 51
        }
      },
      "cell_type": "code",
      "source": [
        "global_bias = np.sum(sm_u_10_phx_res_train)/sm_u_10_phx_res_train.nnz\n",
        "sm_u_10_phx_res_train_wo_bias = sm_u_10_phx_res_train.todense() - global_bias\n",
        "U_phx_res_wo_bias, S_phx_res_wo_bias, Vt_phx_res_wo_bias = np.linalg.svd(sm_u_10_phx_res_train_wo_bias)\n",
        "print(\"smallest singular value = \",min(S_phx_res_wo_bias))\n",
        "print(\"largest singular value = \",max(S_phx_res_wo_bias))\n",
        "S_phx_res_dia_wo_bias = np.diag(S_phx_res_wo_bias)"
      ],
      "execution_count": 0,
      "outputs": [
        {
          "output_type": "stream",
          "text": [
            "smallest singular value =  0.000542870974300842\n",
            "largest singular value =  8479.053174780665\n"
          ],
          "name": "stdout"
        }
      ]
    },
    {
      "metadata": {
        "id": "pJJ1fUnNfGQ8",
        "colab_type": "code",
        "outputId": "b2dc0c2c-98eb-4892-a8dc-4ce72c5d23f4",
        "colab": {
          "base_uri": "https://localhost:8080/",
          "height": 349
        }
      },
      "cell_type": "code",
      "source": [
        "fig = plt.figure(figsize=(8,5))\n",
        "plt.semilogy(S_phx_res_wo_bias[:1000], '-', linewidth=1)\n",
        "plt.title('Elbow Plot')\n",
        "plt.xlabel('Principal Component')\n",
        "plt.ylabel('Singular Values')\n",
        "plt.show()"
      ],
      "execution_count": 0,
      "outputs": [
        {
          "output_type": "display_data",
          "data": {
            "image/png": "[encoded data removed]",
            "text/plain": [
              "<Figure size 576x360 with 1 Axes>"
            ]
          },
          "metadata": {
            "tags": []
          }
        }
      ]
    },
    {
      "metadata": {
        "id": "yR3Zmp5XfJOz",
        "colab_type": "code",
        "outputId": "a9f94e40-3205-4354-df62-a957b5a11231",
        "colab": {
          "base_uri": "https://localhost:8080/",
          "height": 282
        }
      },
      "cell_type": "code",
      "source": [
        "k_wo_bias = np.arange(1,20)\n",
        "errors_svd_wo_bias = {}\n",
        "sm_u_10_phx_res_val_wo_bias = sm_u_10_phx_res_val.todense() - global_bias \n",
        "\n",
        "for i in k_wo_bias:\n",
        "    sm_u_10_phx_res_val_wo_bias_rec = np.dot(U_phx_res_wo_bias[:, :i], np.dot(S_phx_res_dia_wo_bias[:i,:i], Vt_phx_res_wo_bias[:i, :]))\n",
        "    idx_wo_bias = np.where(sm_u_10_phx_res_val.todense()>0);\n",
        "    diff_wo_bias = sm_u_10_phx_res_val_wo_bias[idx_wo_bias] - sm_u_10_phx_res_val_wo_bias_rec[idx_wo_bias]\n",
        "    errors_svd_wo_bias[i] = np.linalg.norm(diff_wo_bias)**2/diff_wo_bias.shape[1]\n",
        "plt.plot(errors_svd_wo_bias.keys(),errors_svd_wo_bias.values())"
      ],
      "execution_count": 0,
      "outputs": [
        {
          "output_type": "execute_result",
          "data": {
            "text/plain": [
              "[<matplotlib.lines.Line2D at 0x7f52da6932b0>]"
            ]
          },
          "metadata": {
            "tags": []
          },
          "execution_count": 76
        },
        {
          "output_type": "display_data",
          "data": {
            "image/png": "[encoded data removed]",
            "text/plain": [
              "<Figure size 432x288 with 1 Axes>"
            ]
          },
          "metadata": {
            "tags": []
          }
        }
      ]
    },
    {
      "metadata": {
        "id": "kpnWjwIffQQZ",
        "colab_type": "code",
        "colab": {}
      },
      "cell_type": "code",
      "source": [
        "def find_global_user_res_bias(ratings_matrix):\n",
        "    dense_matrix = ratings_matrix.todense()\n",
        "    mask_matrix = (dense_matrix>0).astype(int)\n",
        "    user_bias = np.sum(dense_matrix, axis = 1)/np.sum(mask_matrix, axis = 1)\n",
        "    res_bias =  np.sum(dense_matrix, axis = 0)/np.sum(mask_matrix, axis = 0)\n",
        "    user_bias = np.nan_to_num(user_bias)\n",
        "    res_bias = np.nan_to_num(res_bias)\n",
        "    user_bias = user_bias.reshape(-1,1)\n",
        "    res_bias = res_bias.reshape(1,-1)\n",
        "    ratings_matrix_wo_bias = dense_matrix - np.tile(user_bias, (1,dense_matrix.shape[1]))- np.tile(res_bias, (dense_matrix.shape[0], 1))\n",
        "    return user_bias, res_bias, ratings_matrix_wo_bias"
      ],
      "execution_count": 0,
      "outputs": []
    },
    {
      "metadata": {
        "id": "-wWd4BYfdhne",
        "colab_type": "text"
      },
      "cell_type": "markdown",
      "source": [
        "## For Restaurants in Phoenix"
      ]
    },
    {
      "metadata": {
        "id": "QNDgW6fnddX5",
        "colab_type": "code",
        "outputId": "788732db-2390-4d58-a482-2b857f7597a4",
        "colab": {
          "base_uri": "https://localhost:8080/",
          "height": 51
        }
      },
      "cell_type": "code",
      "source": [
        "user_bias_ur, res_bias_ur, train_ur = find_global_user_res_bias(sm_u_10_phx_res_train)"
      ],
      "execution_count": 0,
      "outputs": [
        {
          "output_type": "stream",
          "text": [
            "/usr/local/lib/python3.6/dist-packages/ipykernel_launcher.py:5: RuntimeWarning: invalid value encountered in true_divide\n",
            "  \"\"\"\n"
          ],
          "name": "stderr"
        }
      ]
    },
    {
      "metadata": {
        "id": "XjlRRhxzeG4z",
        "colab_type": "code",
        "outputId": "3f220ad8-2388-48f4-fa67-70f06059a5ed",
        "colab": {
          "base_uri": "https://localhost:8080/",
          "height": 51
        }
      },
      "cell_type": "code",
      "source": [
        "U_phx_res_wo_bias_ur, S_phx_res_wo_bias_ur, Vt_phx_res_wo_bias_ur = np.linalg.svd(train_ur)\n",
        "print(\"smallest singular value = \",min(S_phx_res_wo_bias_ur))\n",
        "print(\"largest singular value = \",max(S_phx_res_wo_bias_ur))\n",
        "S_phx_res_dia_wo_bias_ur = np.diag(S_phx_res_wo_bias_ur)"
      ],
      "execution_count": 0,
      "outputs": [
        {
          "output_type": "stream",
          "text": [
            "smallest singular value =  0.0005567956297033425\n",
            "largest singular value =  16446.29467946065\n"
          ],
          "name": "stdout"
        }
      ]
    },
    {
      "metadata": {
        "id": "S_VqXVP1fbAm",
        "colab_type": "code",
        "outputId": "3c82f513-d5c7-4344-ed27-a89c84d4c24e",
        "colab": {
          "base_uri": "https://localhost:8080/",
          "height": 349
        }
      },
      "cell_type": "code",
      "source": [
        "fig = plt.figure(figsize=(8,5))\n",
        "plt.plot(S_phx_res_wo_bias_ur[:20], '-', linewidth=1)\n",
        "plt.title('Elbow Plot')\n",
        "plt.xlabel('Principal Component')\n",
        "plt.ylabel('Singular Values')\n",
        "plt.show()"
      ],
      "execution_count": 0,
      "outputs": [
        {
          "output_type": "display_data",
          "data": {
            "image/png": "[encoded data removed]",
            "text/plain": [
              "<Figure size 576x360 with 1 Axes>"
            ]
          },
          "metadata": {
            "tags": []
          }
        }
      ]
    },
    {
      "metadata": {
        "id": "eJ_qIG52fdVM",
        "colab_type": "code",
        "outputId": "fa92cc3f-c566-4ca7-a2e7-5fc28732428b",
        "colab": {
          "base_uri": "https://localhost:8080/",
          "height": 296
        }
      },
      "cell_type": "code",
      "source": [
        "k_wo_bias_ur = np.linspace(2,40,20, dtype = int)\n",
        "errors_svd_wo_bias_ur = {}\n",
        "sm_u_10_phx_res_val_wo_bias_ur = sm_u_10_phx_res_val.todense() - user_bias_ur - res_bias_ur\n",
        "\n",
        "for i in k_wo_bias_ur:\n",
        "    sm_u_10_phx_res_val_wo_bias_ur_rec = np.dot(U_phx_res_wo_bias_ur[:, :i], np.dot(S_phx_res_dia_wo_bias_ur[:i,:i], Vt_phx_res_wo_bias_ur[:i, :]))\n",
        "    idx_wo_bias_ur = np.where(sm_u_10_phx_res_val.todense()>0);\n",
        "    diff_wo_bias_ur = sm_u_10_phx_res_val_wo_bias_ur[idx_wo_bias_ur] - sm_u_10_phx_res_val_wo_bias_ur_rec[idx_wo_bias_ur]\n",
        "    errors_svd_wo_bias_ur[i] = np.linalg.norm(diff_wo_bias_ur)**2/diff_wo_bias_ur.shape[1]\n",
        "plt.plot(errors_svd_wo_bias_ur.keys(),errors_svd_wo_bias_ur.values(), label= 'Validation')\n",
        "plt.xlabel('PC')\n",
        "plt.ylabel('MSE')\n",
        "plt.legend()"
      ],
      "execution_count": 0,
      "outputs": [
        {
          "output_type": "execute_result",
          "data": {
            "text/plain": [
              "<matplotlib.legend.Legend at 0x7f52da60c080>"
            ]
          },
          "metadata": {
            "tags": []
          },
          "execution_count": 81
        },
        {
          "output_type": "display_data",
          "data": {
            "image/png": "[encoded data removed]",
            "text/plain": [
              "<Figure size 432x288 with 1 Axes>"
            ]
          },
          "metadata": {
            "tags": []
          }
        }
      ]
    },
    {
      "metadata": {
        "id": "sAxEH4tAfhc-",
        "colab_type": "code",
        "colab": {}
      },
      "cell_type": "code",
      "source": [
        ""
      ],
      "execution_count": 0,
      "outputs": []
    },
    {
      "metadata": {
        "id": "b1oFaH5pfjsE",
        "colab_type": "text"
      },
      "cell_type": "markdown",
      "source": [
        "## For Restaurants in Scottsdale"
      ]
    },
    {
      "metadata": {
        "id": "O-k4sOoMfksf",
        "colab_type": "code",
        "outputId": "1a25f6f9-f589-4c4a-e1ff-080b1315f5d9",
        "colab": {
          "base_uri": "https://localhost:8080/",
          "height": 51
        }
      },
      "cell_type": "code",
      "source": [
        "user_bias_ur_sct, res_bias_ur_sct, train_ur_sct = find_global_user_res_bias(sm_u_10_sct_res_train)"
      ],
      "execution_count": 0,
      "outputs": [
        {
          "output_type": "stream",
          "text": [
            "/usr/local/lib/python3.6/dist-packages/ipykernel_launcher.py:5: RuntimeWarning: invalid value encountered in true_divide\n",
            "  \"\"\"\n"
          ],
          "name": "stderr"
        }
      ]
    },
    {
      "metadata": {
        "id": "5FQ4QDv4ftUW",
        "colab_type": "code",
        "outputId": "d2e2ed37-6419-4bc8-9a2d-6b70348cf67c",
        "colab": {
          "base_uri": "https://localhost:8080/",
          "height": 51
        }
      },
      "cell_type": "code",
      "source": [
        "U_sct_res_wo_bias_ur, S_sct_res_wo_bias_ur, Vt_sct_res_wo_bias_ur = np.linalg.svd(train_ur_sct)\n",
        "print(\"smallest singular value = \",min(S_sct_res_wo_bias_ur))\n",
        "print(\"largest singular value = \",max(S_sct_res_wo_bias_ur))\n",
        "S_sct_res_dia_wo_bias_ur = np.diag(S_sct_res_wo_bias_ur)"
      ],
      "execution_count": 0,
      "outputs": [
        {
          "output_type": "stream",
          "text": [
            "smallest singular value =  6.500617890976148e-13\n",
            "largest singular value =  7190.986814142587\n"
          ],
          "name": "stdout"
        }
      ]
    },
    {
      "metadata": {
        "id": "G97-rsKuf3tn",
        "colab_type": "code",
        "outputId": "7041c93b-cd9c-4ae9-d87a-57b5e546c28d",
        "colab": {
          "base_uri": "https://localhost:8080/",
          "height": 296
        }
      },
      "cell_type": "code",
      "source": [
        "k_wo_bias_ur = np.linspace(2,40,20, dtype = int)\n",
        "errors_svd_wo_bias_ur_sct = {}\n",
        "sm_u_10_sct_res_val_wo_bias_ur = sm_u_10_sct_res_val.todense() - user_bias_ur_sct - res_bias_ur_sct\n",
        "\n",
        "for i in k_wo_bias_ur:\n",
        "    sm_u_10_sct_res_val_wo_bias_ur_rec = np.dot(U_sct_res_wo_bias_ur[:, :i], np.dot(S_sct_res_dia_wo_bias_ur[:i,:i], Vt_sct_res_wo_bias_ur[:i, :]))\n",
        "    idx_wo_bias_ur_sct = np.where(sm_u_10_sct_res_val.todense()>0);\n",
        "    diff_wo_bias_ur_sct = sm_u_10_sct_res_val_wo_bias_ur[idx_wo_bias_ur_sct] - sm_u_10_sct_res_val_wo_bias_ur_rec[idx_wo_bias_ur_sct]\n",
        "    errors_svd_wo_bias_ur_sct[i] = np.linalg.norm(diff_wo_bias_ur_sct)**2/diff_wo_bias_ur_sct.shape[1]\n",
        "plt.plot(errors_svd_wo_bias_ur_sct.keys(),errors_svd_wo_bias_ur_sct.values(), label = 'Validation')\n",
        "plt.xlabel('PC')\n",
        "plt.ylabel('MSE')\n",
        "plt.legend()"
      ],
      "execution_count": 0,
      "outputs": [
        {
          "output_type": "execute_result",
          "data": {
            "text/plain": [
              "<matplotlib.legend.Legend at 0x7f52da546908>"
            ]
          },
          "metadata": {
            "tags": []
          },
          "execution_count": 87
        },
        {
          "output_type": "display_data",
          "data": {
            "image/png": "[encoded data removed]",
            "text/plain": [
              "<Figure size 432x288 with 1 Axes>"
            ]
          },
          "metadata": {
            "tags": []
          }
        }
      ]
    },
    {
      "metadata": {
        "id": "2KLkySrWhQ5S",
        "colab_type": "text"
      },
      "cell_type": "markdown",
      "source": [
        "\n",
        "## 3.2 Cosine Similarity with correction for bias"
      ]
    },
    {
      "metadata": {
        "id": "wufOv_QGgVSd",
        "colab_type": "code",
        "colab": {}
      },
      "cell_type": "code",
      "source": [
        "def similarity_matrix(train_matrix, between = 'users'):\n",
        "    '''Returns the cosine similarity between users or restaurants'''\n",
        "    if between == 'users':\n",
        "        similarity = train_matrix*train_matrix.transpose()\n",
        "    else:\n",
        "        similarity = train_matrix.transpose()*train_matrix\n",
        "    similarity_dense = similarity.todense() + 1e-8\n",
        "    norm_array = np.sqrt(np.diag(similarity_dense))\n",
        "    return similarity_dense/norm_array/norm_array.reshape(-1,1)"
      ],
      "execution_count": 0,
      "outputs": []
    },
    {
      "metadata": {
        "id": "oj0iBQrAhUL-",
        "colab_type": "code",
        "colab": {}
      },
      "cell_type": "code",
      "source": [
        "def predict_topk_nobias(ratings, similarity, kind='user', k=40):\n",
        "    pred = np.zeros(ratings.shape)\n",
        "    if kind == 'user':\n",
        "        user_bias = np.mean(ratings, axis =1)\n",
        "        ratings = (ratings - np.tile(user_bias, (ratings.shape[1],1)).T).copy()\n",
        "        for i in range(ratings.shape[0]):\n",
        "            top_k_users = np.argsort(similarity[:,i])[:-k-1:-1]\n",
        "            pred[i] = np.dot(similarity[i,top_k_users],ratings[top_k_users,:])/np.sum(np.abs(similarity[i,top_k_users]))\n",
        "        pred += np.tile(user_bias,(ratings.shape[1],1)).T\n",
        "    else:\n",
        "        item_bias = np.mean(ratings, axis=0)\n",
        "        ratings = (ratings - np.tile(item_bias,(ratings.shape[0],1))).copy()\n",
        "        for j in range(ratings.shape[1]):\n",
        "            top_k_items = np.argsort(similarity[:,j])[:-k-1:-1]\n",
        "            pred[:,j] = np.dot(similarity[top_k_items,j].T,ratings[:,top_k_items].T)/np.sum(np.abs(similarity[top_k_items,j]))\n",
        "        pred += np.tile(item_bias,(ratings.shape[0],1))\n",
        "        \n",
        "    return pred"
      ],
      "execution_count": 0,
      "outputs": []
    },
    {
      "metadata": {
        "id": "56aQaWdUhV8V",
        "colab_type": "code",
        "colab": {}
      },
      "cell_type": "code",
      "source": [
        "def get_mse(pred, actual):\n",
        "    # Ignore zero terms.\n",
        "    pred = pred[actual.nonzero()].flatten()\n",
        "    actual = actual[actual.nonzero()].flatten()\n",
        "    return mean_squared_error(pred, actual)"
      ],
      "execution_count": 0,
      "outputs": []
    },
    {
      "metadata": {
        "id": "PLmbPLJJhXUR",
        "colab_type": "code",
        "outputId": "399684dd-1a12-4363-ebc0-09b52d9afc7a",
        "colab": {
          "base_uri": "https://localhost:8080/",
          "height": 34
        }
      },
      "cell_type": "code",
      "source": [
        "simi_phx_res = similarity_matrix(sm_u_10_phx_res_train, between='res')\n",
        "simi_phx_res = np.array(simi_phx_res)\n",
        "preds_cosine_phx = predict_topk_nobias(np.array(sm_u_10_phx_res_train.todense()),simi_phx_res,kind='res', k=1)\n",
        "MSE_cosine_res = get_mse(preds_cosine_phx, np.array(sm_u_10_phx_res_val.todense()))\n",
        "print(\"MSE for cosine Similarity between Restaurants =\",MSE_cosine_res)"
      ],
      "execution_count": 0,
      "outputs": [
        {
          "output_type": "stream",
          "text": [
            "MSE for cosine Similarity between Restaurants = 18.736972704714642\n"
          ],
          "name": "stdout"
        }
      ]
    },
    {
      "metadata": {
        "id": "I05_qqHGhbmI",
        "colab_type": "code",
        "outputId": "7bf25815-b49e-4964-f2bf-dd510bc8ae19",
        "colab": {
          "base_uri": "https://localhost:8080/",
          "height": 34
        }
      },
      "cell_type": "code",
      "source": [
        "simi_phx_users = similarity_matrix(sm_u_10_phx_res_train, between='users')\n",
        "simi_phx_users = np.array(simi_phx_users)\n",
        "preds_cosine_phx_users = predict_topk_nobias(np.array(sm_u_10_phx_res_train.todense()),simi_phx_users,kind='user', k=1)\n",
        "MSE_cosine_users = get_mse(preds_cosine_phx_users, np.array(sm_u_10_phx_res_val.todense()))\n",
        "print(\"MSE for cosine Similarity between Users =\",MSE_cosine_users)"
      ],
      "execution_count": 0,
      "outputs": [
        {
          "output_type": "stream",
          "text": [
            "MSE for cosine Similarity between Users = 18.736972704714642\n"
          ],
          "name": "stdout"
        }
      ]
    },
    {
      "metadata": {
        "id": "HmikSTL1hjvU",
        "colab_type": "text"
      },
      "cell_type": "markdown",
      "source": [
        "## For Restaurants in Phoenix"
      ]
    },
    {
      "metadata": {
        "id": "EtNmi_p2hfiY",
        "colab_type": "code",
        "outputId": "c4d9442a-f92e-4717-d810-c8f17cb1d27b",
        "colab": {
          "base_uri": "https://localhost:8080/",
          "height": 311
        }
      },
      "cell_type": "code",
      "source": [
        "errors_cs_res_phx_val = {}\n",
        "errors_cs_res_phx_train = {}\n",
        "k_cs = np.arange(1, 40)\n",
        "for i in k_cs:\n",
        "    preds_cs_res_phx = predict_topk_nobias(np.array(sm_u_10_phx_res_train.todense()),simi_phx_res,kind='res', k=i)\n",
        "    error_cs_val = get_mse(preds_cs_res_phx, np.array(sm_u_10_phx_res_val.todense()))\n",
        "    error_cs_train = get_mse(preds_cs_res_phx, np.array(sm_u_10_phx_res_train.todense()))\n",
        "    errors_cs_res_phx_val[i] = error_cs_val\n",
        "    errors_cs_res_phx_train[i] = error_cs_train\n",
        "plt.plot(errors_cs_res_phx_val.keys(),errors_cs_res_phx_val.values(), label = 'Validation')\n",
        "plt.plot(errors_cs_res_phx_train.keys(),errors_cs_res_phx_train.values(), label = 'Train')\n",
        "plt.xlabel('K Neighbors')\n",
        "plt.ylabel('MSE')\n",
        "plt.title('Cosine Similarity: MSE (train/Val) vs K')\n",
        "plt.legend()"
      ],
      "execution_count": 0,
      "outputs": [
        {
          "output_type": "execute_result",
          "data": {
            "text/plain": [
              "<matplotlib.legend.Legend at 0x7f52da4e2710>"
            ]
          },
          "metadata": {
            "tags": []
          },
          "execution_count": 93
        },
        {
          "output_type": "display_data",
          "data": {
            "image/png": "[encoded data removed]",
            "text/plain": [
              "<Figure size 432x288 with 1 Axes>"
            ]
          },
          "metadata": {
            "tags": []
          }
        }
      ]
    },
    {
      "metadata": {
        "id": "3X8K9fhXhnaT",
        "colab_type": "code",
        "outputId": "caad7d59-786c-44bc-f042-eef892d37b2a",
        "colab": {
          "base_uri": "https://localhost:8080/",
          "height": 34
        }
      },
      "cell_type": "code",
      "source": [
        "preds_cosine_phx = predict_topk_nobias(np.array(sm_u_10_phx_res_train.todense()),simi_phx_res,kind='res', k=40)\n",
        "Best_Val_MSE_Cosine_phx = get_mse(preds_cosine_phx, np.array(sm_u_10_phx_res_val.todense()))\n",
        "print('Best Validation MSE for Cosine Similarity for Restaurants in Phoenix= ', Best_Val_MSE_Cosine_phx)"
      ],
      "execution_count": 0,
      "outputs": [
        {
          "output_type": "stream",
          "text": [
            "Best Validation MSE for Cosine Similarity for Restaurants in Phoenix=  17.35093854739503\n"
          ],
          "name": "stdout"
        }
      ]
    },
    {
      "metadata": {
        "id": "vrQYQ-V-iEa7",
        "colab_type": "code",
        "colab": {}
      },
      "cell_type": "code",
      "source": [
        "train_preds_cosine_phx = preds_cosine_phx[train_phx_nnz]\n",
        "val_preds_cosine_phx = preds_cosine_phx[val_phx_nnz]\n",
        "test_preds_cosine_phx = preds_cosine_phx[test_phx_nnz]"
      ],
      "execution_count": 0,
      "outputs": []
    },
    {
      "metadata": {
        "id": "gvSHhtLniL4x",
        "colab_type": "text"
      },
      "cell_type": "markdown",
      "source": [
        "## For Restaurants in Scottsdale"
      ]
    },
    {
      "metadata": {
        "id": "WitlVyK8iHwv",
        "colab_type": "code",
        "outputId": "452ed0be-d11a-4ed3-ba2f-4afb1aeb1a75",
        "colab": {
          "base_uri": "https://localhost:8080/",
          "height": 311
        }
      },
      "cell_type": "code",
      "source": [
        "errors_cs_res_sct_val = {}\n",
        "errors_cs_res_sct_train = {}\n",
        "k_cs = np.arange(1, 40)\n",
        "simi_sct_res = similarity_matrix(sm_u_10_sct_res_train, between='res')\n",
        "simi_sct_res = np.array(simi_sct_res)\n",
        "for i in k_cs:\n",
        "    preds_cs_res_sct = predict_topk_nobias(np.array(sm_u_10_sct_res_train.todense()),simi_sct_res,kind='res', k=i)\n",
        "    error_cs_val = get_mse(preds_cs_res_sct, np.array(sm_u_10_sct_res_val.todense()))\n",
        "    error_cs_train = get_mse(preds_cs_res_sct, np.array(sm_u_10_sct_res_train.todense()))\n",
        "    errors_cs_res_sct_val[i] = error_cs_val\n",
        "    errors_cs_res_sct_train[i] = error_cs_train\n",
        "plt.plot(errors_cs_res_sct_val.keys(),errors_cs_res_sct_val.values(), label = 'Validation')\n",
        "plt.plot(errors_cs_res_sct_train.keys(),errors_cs_res_sct_train.values(), label = 'Train')\n",
        "plt.xlabel('K Neighbors')\n",
        "plt.ylabel('MSE')\n",
        "plt.title('Cosine Similarity: MSE (train/Val) vs K (Scottsdale Restaurants)')\n",
        "plt.legend()"
      ],
      "execution_count": 0,
      "outputs": [
        {
          "output_type": "execute_result",
          "data": {
            "text/plain": [
              "<matplotlib.legend.Legend at 0x7f52da834898>"
            ]
          },
          "metadata": {
            "tags": []
          },
          "execution_count": 99
        },
        {
          "output_type": "display_data",
          "data": {
            "image/png": "[encoded data removed]",
            "text/plain": [
              "<Figure size 432x288 with 1 Axes>"
            ]
          },
          "metadata": {
            "tags": []
          }
        }
      ]
    },
    {
      "metadata": {
        "id": "Fs7XF4tCinZG",
        "colab_type": "code",
        "outputId": "50cce244-d9cb-49d9-9386-2ac5a4080167",
        "colab": {
          "base_uri": "https://localhost:8080/",
          "height": 34
        }
      },
      "cell_type": "code",
      "source": [
        "preds_cosine_sct = predict_topk_nobias(np.array(sm_u_10_sct_res_train.todense()),simi_sct_res,kind='res', k=40)\n",
        "Best_Val_MSE_Cosine_sct = get_mse(preds_cosine_sct, np.array(sm_u_10_sct_res_val.todense()))\n",
        "print('Best Validation MSE for Cosine Similarity for Restaurants in Scottsdale= ', Best_Val_MSE_Cosine_sct)"
      ],
      "execution_count": 0,
      "outputs": [
        {
          "output_type": "stream",
          "text": [
            "Best Validation MSE for Cosine Similarity for Restaurants in Scottsdale=  17.025866680642704\n"
          ],
          "name": "stdout"
        }
      ]
    },
    {
      "metadata": {
        "id": "Jd1fLdQEuCzT",
        "colab_type": "code",
        "colab": {}
      },
      "cell_type": "code",
      "source": [
        "train_preds_cosine_sct = preds_cosine_sct[train_sct_nnz]\n",
        "val_preds_cosine_sct = preds_cosine_sct[val_sct_nnz]\n",
        "test_preds_cosine_sct = preds_cosine_sct[test_sct_nnz]"
      ],
      "execution_count": 0,
      "outputs": []
    },
    {
      "metadata": {
        "id": "Ognjbbasj-JJ",
        "colab_type": "text"
      },
      "cell_type": "markdown",
      "source": [
        "\n",
        "## 3.3 ALS:"
      ]
    },
    {
      "metadata": {
        "id": "ovJFfHfGi2P0",
        "colab_type": "code",
        "colab": {}
      },
      "cell_type": "code",
      "source": [
        "def als(ratings_matrix, k=40, user_reg=0, res_reg=0, iters=10):\n",
        "    '''Performs ALS for a given ratings_matrix and returns predictions using the latent vector representation User (U x K) and Restaurant (R x K)'''\n",
        "    ratings_matrix = ratings_matrix.T\n",
        "    user_vec = np.random.rand(ratings_matrix.shape[1],k).T\n",
        "    res_vec = np.random.rand(ratings_matrix.shape[0],k).T\n",
        "    for i in range(iters):\n",
        "        for u in range(ratings_matrix.shape[1]):\n",
        "            user_vec[:,u] = np.linalg.solve(np.dot(res_vec,res_vec.T) + user_reg * np.eye(res_vec.shape[0]), np.dot(res_vec,ratings_matrix[:,u]))\n",
        "        for r in range(ratings_matrix.shape[0]):\n",
        "            res_vec[:,r] = np.linalg.solve(np.dot(user_vec,user_vec.T) + res_reg * np.eye(user_vec.shape[0]), np.dot(user_vec,ratings_matrix[r,:].T))\n",
        "        prediction = np.dot(res_vec.T, user_vec)\n",
        "#         error = np.mean((ratings_matrix - prediction)**2)\n",
        "    return np.dot(res_vec.T, user_vec).T"
      ],
      "execution_count": 0,
      "outputs": []
    },
    {
      "metadata": {
        "id": "LhPoybBmkcIw",
        "colab_type": "text"
      },
      "cell_type": "markdown",
      "source": [
        "## For Restaurants in Phoenix"
      ]
    },
    {
      "metadata": {
        "id": "U8uLchHykZrl",
        "colab_type": "code",
        "outputId": "f72c6c9c-e378-441e-af0c-c559da5e7452",
        "colab": {
          "base_uri": "https://localhost:8080/",
          "height": 366
        }
      },
      "cell_type": "code",
      "source": [
        "\n",
        "num_features = np.linspace(1,20,5,dtype=int)\n",
        "test_error_als = []\n",
        "train_error_als = []\n",
        "for i in num_features:\n",
        "    preds_als = als(np.array(sm_u_10_phx_res_train.todense()), k=i, iters = 5)\n",
        "    test_err = get_mse(preds_als, np.array(sm_u_10_phx_res_val.todense()))\n",
        "    train_err = get_mse(preds_als, np.array(sm_u_10_phx_res_train.todense()))\n",
        "    test_error_als.append(test_err)\n",
        "    train_error_als.append(train_err)\n",
        "\n",
        "fig = plt.figure(figsize=(8,5))\n",
        "plt.plot(num_features,test_error_als,'b-',label = 'validation')\n",
        "plt.plot(num_features,train_error_als,'r-', label = 'training')\n",
        "plt.title('MSE vs num_features (for ALS)')\n",
        "plt.xlabel('Number of features in a feature vector')\n",
        "plt.ylabel('MSE')\n",
        "plt.legend()"
      ],
      "execution_count": 0,
      "outputs": [
        {
          "output_type": "execute_result",
          "data": {
            "text/plain": [
              "<matplotlib.legend.Legend at 0x7f52daad2160>"
            ]
          },
          "metadata": {
            "tags": []
          },
          "execution_count": 102
        },
        {
          "output_type": "display_data",
          "data": {
            "image/png": "[encoded data removed]",
            "text/plain": [
              "<Figure size 576x360 with 1 Axes>"
            ]
          },
          "metadata": {
            "tags": []
          }
        }
      ]
    },
    {
      "metadata": {
        "id": "yKrPs9i1kfPC",
        "colab_type": "code",
        "outputId": "f85d3532-d348-490e-b02a-2c241d3077c6",
        "colab": {
          "base_uri": "https://localhost:8080/",
          "height": 366
        }
      },
      "cell_type": "code",
      "source": [
        "user_reg= np.logspace(-4,3,7)\n",
        "val_error_als = {}\n",
        "# train_error_als = {}\n",
        "fig = plt.figure(figsize=(8,5))\n",
        "for i in user_reg:\n",
        "    val_error_als[i] = []\n",
        "    preds_als = als(np.array(sm_u_10_phx_res_train.todense()),k=10, iters = 5, user_reg=i, res_reg=i)\n",
        "    val_err = get_mse(preds_als, np.array(sm_u_10_phx_res_val.todense()))\n",
        "#         train_err = get_mse(preds_als, np.array(train.todense()))\n",
        "    val_error_als[i].append(val_err)\n",
        "#         train_error_als[i].append(train_err)\n",
        "plt.plot(np.log10(user_reg),val_error_als.values())\n",
        "#     plt.plot(np.log(res_reg),train_error_als[i], label = 'User_reg = '+ str(i))\n",
        "\n",
        "\n",
        "plt.title('MSE vs Regularization')\n",
        "plt.xlabel('Regularization (log Scale) (User Reg =  Res Reg)')\n",
        "plt.ylabel('MSE')"
      ],
      "execution_count": 0,
      "outputs": [
        {
          "output_type": "execute_result",
          "data": {
            "text/plain": [
              "Text(0, 0.5, 'MSE')"
            ]
          },
          "metadata": {
            "tags": []
          },
          "execution_count": 103
        },
        {
          "output_type": "display_data",
          "data": {
            "image/png": "[encoded data removed]",
            "text/plain": [
              "<Figure size 576x360 with 1 Axes>"
            ]
          },
          "metadata": {
            "tags": []
          }
        }
      ]
    },
    {
      "metadata": {
        "id": "welas3J8khhQ",
        "colab_type": "code",
        "outputId": "35142965-77a5-46c8-9c84-f62a9cab5878",
        "colab": {
          "base_uri": "https://localhost:8080/",
          "height": 34
        }
      },
      "cell_type": "code",
      "source": [
        "preds_als_phx = als(np.array(sm_u_10_phx_res_train.todense()),k=10, iters = 5, user_reg=0.001 , res_reg=0.001)\n",
        "Best_Val_MSE_als_phx = get_mse(preds_als_phx, np.array(sm_u_10_phx_res_val.todense()))\n",
        "print('Best Validation MSE for ALS for Restaurants in Phoenix= ', Best_Val_MSE_als_phx)"
      ],
      "execution_count": 0,
      "outputs": [
        {
          "output_type": "stream",
          "text": [
            "Best Validation MSE for ALS for Restaurants in Phoenix=  17.230543322467152\n"
          ],
          "name": "stdout"
        }
      ]
    },
    {
      "metadata": {
        "id": "ZH_vE1hskkPD",
        "colab_type": "code",
        "colab": {}
      },
      "cell_type": "code",
      "source": [
        "train_preds_als_phx = preds_als_phx[train_phx_nnz]\n",
        "val_preds_als_phx = preds_als_phx[val_phx_nnz]\n",
        "test_preds_als_phx = preds_als_phx[test_phx_nnz]"
      ],
      "execution_count": 0,
      "outputs": []
    },
    {
      "metadata": {
        "id": "42kPuZpVkmfp",
        "colab_type": "text"
      },
      "cell_type": "markdown",
      "source": [
        "## For Restaurants in Scottsdale"
      ]
    },
    {
      "metadata": {
        "id": "c8k9gJy_ktw2",
        "colab_type": "code",
        "outputId": "ef2f35ee-c3b2-493e-bb4d-81c63b13a512",
        "colab": {
          "base_uri": "https://localhost:8080/",
          "height": 366
        }
      },
      "cell_type": "code",
      "source": [
        "num_features = np.linspace(1,20,5,dtype=int)\n",
        "test_error_als_sct = []\n",
        "train_error_als_sct = []\n",
        "for i in num_features:\n",
        "    preds_als = als(np.array(sm_u_10_sct_res_train.todense()), k=i, iters = 5)\n",
        "    test_err = get_mse(preds_als, np.array(sm_u_10_sct_res_val.todense()))\n",
        "    train_err = get_mse(preds_als, np.array(sm_u_10_sct_res_train.todense()))\n",
        "    test_error_als_sct.append(test_err)\n",
        "    train_error_als_sct.append(train_err)\n",
        "\n",
        "fig = plt.figure(figsize=(8,5))\n",
        "plt.plot(num_features,test_error_als_sct,'b-',label = 'validation')\n",
        "plt.plot(num_features,train_error_als_sct,'r-', label = 'training')\n",
        "plt.title('MSE vs num_features (for ALS)')\n",
        "plt.xlabel('Number of features in a feature vector')\n",
        "plt.ylabel('MSE')\n",
        "plt.legend()"
      ],
      "execution_count": 0,
      "outputs": [
        {
          "output_type": "execute_result",
          "data": {
            "text/plain": [
              "<matplotlib.legend.Legend at 0x7f52da7e7588>"
            ]
          },
          "metadata": {
            "tags": []
          },
          "execution_count": 108
        },
        {
          "output_type": "display_data",
          "data": {
            "image/png": "[encoded data removed]",
            "text/plain": [
              "<Figure size 576x360 with 1 Axes>"
            ]
          },
          "metadata": {
            "tags": []
          }
        }
      ]
    },
    {
      "metadata": {
        "id": "hesQrrDulJS-",
        "colab_type": "code",
        "outputId": "abc2de3e-1158-4371-c0e8-97fed030145b",
        "colab": {
          "base_uri": "https://localhost:8080/",
          "height": 366
        }
      },
      "cell_type": "code",
      "source": [
        "user_reg= np.logspace(-4,3,7)\n",
        "val_error_als = {}\n",
        "# train_error_als = {}\n",
        "fig = plt.figure(figsize=(8,5))\n",
        "for i in user_reg:\n",
        "    val_error_als[i] = []\n",
        "    preds_als = als(np.array(sm_u_10_sct_res_train.todense()),k=10, iters = 5, user_reg=i, res_reg=i)\n",
        "    val_err = get_mse(preds_als, np.array(sm_u_10_sct_res_val.todense()))\n",
        "#         train_err = get_mse(preds_als, np.array(train.todense()))\n",
        "    val_error_als[i].append(val_err)\n",
        "#         train_error_als[i].append(train_err)\n",
        "plt.plot(np.log10(user_reg),val_error_als.values())\n",
        "#     plt.plot(np.log(res_reg),train_error_als[i], label = 'User_reg = '+ str(i))\n",
        "\n",
        "\n",
        "plt.title('MSE vs Regularization')\n",
        "plt.xlabel('Regularization (log Scale) (User Reg =  Res Reg)')\n",
        "plt.ylabel('MSE')"
      ],
      "execution_count": 0,
      "outputs": [
        {
          "output_type": "execute_result",
          "data": {
            "text/plain": [
              "Text(0, 0.5, 'MSE')"
            ]
          },
          "metadata": {
            "tags": []
          },
          "execution_count": 110
        },
        {
          "output_type": "display_data",
          "data": {
            "image/png": "[encoded data removed]",
            "text/plain": [
              "<Figure size 576x360 with 1 Axes>"
            ]
          },
          "metadata": {
            "tags": []
          }
        }
      ]
    },
    {
      "metadata": {
        "id": "wojhTBA7lRyM",
        "colab_type": "code",
        "outputId": "49893023-35a8-47cb-fe75-4b9fd94df155",
        "colab": {
          "base_uri": "https://localhost:8080/",
          "height": 34
        }
      },
      "cell_type": "code",
      "source": [
        "preds_als_sct = als(np.array(sm_u_10_sct_res_train.todense()),k=10, iters = 5, user_reg=0.01, res_reg=0.01)\n",
        "Best_Val_MSE_als_sct = get_mse(preds_als_sct, np.array(sm_u_10_sct_res_val.todense()))\n",
        "print('Best Validation MSE for ALS for Restaurants in Scottsdale= ', Best_Val_MSE_als_sct)"
      ],
      "execution_count": 0,
      "outputs": [
        {
          "output_type": "stream",
          "text": [
            "Best Validation MSE for ALS for Restaurants in Scottsdale=  16.729128335518105\n"
          ],
          "name": "stdout"
        }
      ]
    },
    {
      "metadata": {
        "id": "N3QNvf0llhgF",
        "colab_type": "code",
        "colab": {}
      },
      "cell_type": "code",
      "source": [
        "train_preds_als_sct = preds_als_sct[train_sct_nnz]\n",
        "val_preds_als_sct = preds_als_sct[val_sct_nnz]\n",
        "test_preds_als_sct = preds_als_sct[test_sct_nnz]"
      ],
      "execution_count": 0,
      "outputs": []
    },
    {
      "metadata": {
        "id": "ZgK6I21ll8bH",
        "colab_type": "text"
      },
      "cell_type": "markdown",
      "source": [
        "\n",
        "## 3.4 SGD with bias correction"
      ]
    },
    {
      "metadata": {
        "id": "uGXYAcYPl668",
        "colab_type": "code",
        "colab": {}
      },
      "cell_type": "code",
      "source": [
        "def sgd(ratings, k=40, user_bias_reg = 0.01, res_bias_reg = 0.01, user_vec_reg = 0.01, res_vec_reg = 0.01, lr = 1e-3, \n",
        "       iterations = 200):\n",
        "    '''Learn user and res biases along with latent vectors'''\n",
        "    error_array = np.zeros(iterations);\n",
        "    global_bias = np.mean(ratings[np.where(ratings)!=0])\n",
        "    user_bias = 0.1*(2*(np.random.rand(ratings.shape[0]))-1)\n",
        "    res_bias = 0.1*(2*(np.random.rand(ratings.shape[1]))-1)\n",
        "    user_vec = 0.1*(2*(np.random.rand(ratings.shape[0],k))-1)\n",
        "    res_vec = 0.1*(2*(np.random.rand(ratings.shape[1],k))-1)\n",
        "    training_idx = np.arange(ratings.nonzero()[0].shape[0])\n",
        "    np.random.shuffle(training_idx)\n",
        "    nz_rows_idx = ratings.nonzero()[0]\n",
        "    nz_cols_idx = ratings.nonzero()[1]\n",
        "    for i in range(iterations):\n",
        "    \n",
        "#         if(i%20 == 0):\n",
        "#             print('Iteration number: ', i)\n",
        "        lr = 1.0/(100 + 0.01*i)\n",
        "        np.random.shuffle(training_idx)\n",
        "        \n",
        "        temp_error_array = np.zeros(len(training_idx));\n",
        "        for datapoint_i, idx in enumerate(training_idx):\n",
        "            u = nz_rows_idx[idx]\n",
        "            r = nz_cols_idx[idx]\n",
        "            prediction = global_bias + user_bias[u] + res_bias[r] + np.dot(user_vec[u,:], res_vec[r,:].T)\n",
        "            e = (ratings[u,r] - prediction);\n",
        "            temp_error_array[datapoint_i] += e**2;\n",
        "            if i > 0:\n",
        "                user_bias[u] += lr * (e - user_bias_reg * user_bias[u])\n",
        "                res_bias[r] += lr * (e - res_bias_reg * res_bias[r])\n",
        "                user_vec[u,:] += lr * (e * res_vec[r,:] - user_vec_reg * user_vec[u,:])\n",
        "                res_vec[r,:] += lr * (e * user_vec[u,:] - res_vec_reg * res_vec[r,:])\n",
        "            \n",
        "        error_array[i] = np.mean(temp_error_array);\n",
        "#         print(error_array[i])\n",
        "            \n",
        "    predictions = global_bias + user_bias[:, np.newaxis] + res_bias[np.newaxis, :] + np.dot(user_vec, res_vec.T)\n",
        "    predictions[predictions > 5] = 5\n",
        "    predictions[predictions < 0] = 0\n",
        "    \n",
        "    return (predictions, error_array, user_vec, res_vec)"
      ],
      "execution_count": 0,
      "outputs": []
    },
    {
      "metadata": {
        "id": "UKWBmZNimBWA",
        "colab_type": "code",
        "colab": {}
      },
      "cell_type": "code",
      "source": [
        ""
      ],
      "execution_count": 0,
      "outputs": []
    },
    {
      "metadata": {
        "id": "h9P7J9nNmCGn",
        "colab_type": "text"
      },
      "cell_type": "markdown",
      "source": [
        "**Tuning the Iters hyper-parameter**\n",
        "## For Restaurants in Phoenix"
      ]
    },
    {
      "metadata": {
        "id": "qXxmcN5JmIiG",
        "colab_type": "code",
        "outputId": "83973a1c-75f9-4503-bcdb-5f7b3590f550",
        "colab": {
          "base_uri": "https://localhost:8080/",
          "height": 434
        }
      },
      "cell_type": "code",
      "source": [
        "iters = np.arange(10, 50, 10)\n",
        "err_sgd_test = []\n",
        "err_sgd_train = []\n",
        "for i in iters:\n",
        "    print('iters = ',i)\n",
        "    preds_sgd = sgd(np.array(sm_u_10_phx_res_train.todense()), k=10, iterations= i)\n",
        "    err_test = get_mse(preds_sgd[0], np.array(sm_u_10_phx_res_val.todense()))\n",
        "    err_train = get_mse(preds_sgd[0], np.array(sm_u_10_phx_res_train.todense()))\n",
        "    err_sgd_test.append(err_test)\n",
        "    err_sgd_train.append(err_train)\n",
        "fig = plt.figure(figsize=(8,5))\n",
        "plt.plot(iters,err_sgd_test,'b-',label = 'validation')\n",
        "plt.plot(iters,err_sgd_train,'r-', label = 'training')\n",
        "plt.title('MSE_sgd vs Iterations (Restaurants in Phoenix)')\n",
        "plt.xlabel('Iterations')\n",
        "plt.ylabel('MSE')\n",
        "plt.legend()"
      ],
      "execution_count": 0,
      "outputs": [
        {
          "output_type": "stream",
          "text": [
            "iters =  10\n",
            "iters =  20\n",
            "iters =  30\n",
            "iters =  40\n"
          ],
          "name": "stdout"
        },
        {
          "output_type": "execute_result",
          "data": {
            "text/plain": [
              "<matplotlib.legend.Legend at 0x7f52da3d1080>"
            ]
          },
          "metadata": {
            "tags": []
          },
          "execution_count": 116
        },
        {
          "output_type": "display_data",
          "data": {
            "image/png": "[encoded data removed]",
            "text/plain": [
              "<Figure size 576x360 with 1 Axes>"
            ]
          },
          "metadata": {
            "tags": []
          }
        }
      ]
    },
    {
      "metadata": {
        "id": "WCXbdKnAme77",
        "colab_type": "code",
        "outputId": "597ba3aa-eb52-4976-ebf2-76c97460c21e",
        "colab": {
          "base_uri": "https://localhost:8080/",
          "height": 536
        }
      },
      "cell_type": "code",
      "source": [
        "k = np.linspace(2, 15, 10, dtype = int)\n",
        "err_sgd_test = []\n",
        "err_sgd_train = []\n",
        "for i in k:\n",
        "    print('k = ', i)\n",
        "    preds_sgd = sgd(np.array(sm_u_10_phx_res_train.todense()), k=i, iterations= 20)\n",
        "    err_test = get_mse(preds_sgd[0], np.array(sm_u_10_phx_res_val.todense()))\n",
        "    err_train = get_mse(preds_sgd[0], np.array(sm_u_10_phx_res_train.todense()))\n",
        "    err_sgd_test.append(err_test)\n",
        "    err_sgd_train.append(err_train)\n",
        "fig = plt.figure(figsize=(8,5))\n",
        "plt.plot(k,err_sgd_test,'b-',label = 'validation')\n",
        "plt.plot(k,err_sgd_train,'r-', label = 'training')\n",
        "plt.title('MSE_sgd vs k (Restaurants in Phoenix)')\n",
        "plt.xlabel('k')\n",
        "plt.ylabel('MSE')\n",
        "plt.legend()"
      ],
      "execution_count": 0,
      "outputs": [
        {
          "output_type": "stream",
          "text": [
            "k =  2\n",
            "k =  3\n",
            "k =  4\n",
            "k =  6\n",
            "k =  7\n",
            "k =  9\n",
            "k =  10\n",
            "k =  12\n",
            "k =  13\n",
            "k =  15\n"
          ],
          "name": "stdout"
        },
        {
          "output_type": "execute_result",
          "data": {
            "text/plain": [
              "<matplotlib.legend.Legend at 0x7f52da33c160>"
            ]
          },
          "metadata": {
            "tags": []
          },
          "execution_count": 117
        },
        {
          "output_type": "display_data",
          "data": {
            "image/png": "[encoded data removed]",
            "text/plain": [
              "<Figure size 576x360 with 1 Axes>"
            ]
          },
          "metadata": {
            "tags": []
          }
        }
      ]
    },
    {
      "metadata": {
        "id": "PFtsCbr8mqJh",
        "colab_type": "code",
        "colab": {}
      },
      "cell_type": "code",
      "source": [
        "predictions_sgd_phx, error_array_sgd_phx, user_vec_sgd_phx, res_vec_sgd_phx = sgd(np.array(sm_u_10_phx_res_train.todense()), k=2, iterations= 20)"
      ],
      "execution_count": 0,
      "outputs": []
    },
    {
      "metadata": {
        "id": "8h14nDjGmsHW",
        "colab_type": "code",
        "outputId": "c334df79-acb2-4160-e330-723b7686b73d",
        "colab": {
          "base_uri": "https://localhost:8080/",
          "height": 34
        }
      },
      "cell_type": "code",
      "source": [
        "preds_sgd_phx = sgd(np.array(sm_u_10_phx_res_train.todense()),k=2, iterations= 20)\n",
        "Best_Val_MSE_sgd_phx = get_mse(preds_sgd_phx[0], np.array(sm_u_10_phx_res_val.todense()))\n",
        "print('Best Validation MSE for SGD for Restaurants in Phoenix= ', Best_Val_MSE_sgd_phx)"
      ],
      "execution_count": 0,
      "outputs": [
        {
          "output_type": "stream",
          "text": [
            "Best Validation MSE for SGD for Restaurants in Phoenix=  2.8545074083478035\n"
          ],
          "name": "stdout"
        }
      ]
    },
    {
      "metadata": {
        "id": "Bf6CxYKWmvCN",
        "colab_type": "code",
        "colab": {}
      },
      "cell_type": "code",
      "source": [
        "train_preds_sgd_phx = preds_sgd_phx[0][train_phx_nnz]\n",
        "val_preds_sgd_phx = preds_sgd_phx[0][val_phx_nnz]\n",
        "test_preds_sgd_phx = preds_sgd_phx[0][test_phx_nnz]"
      ],
      "execution_count": 0,
      "outputs": []
    },
    {
      "metadata": {
        "id": "FrX2C16Lmyod",
        "colab_type": "text"
      },
      "cell_type": "markdown",
      "source": [
        "## For Restaurants in Scottsdale"
      ]
    },
    {
      "metadata": {
        "id": "zCt_va0lmwd5",
        "colab_type": "code",
        "outputId": "43d787a4-f3f1-4a32-9ca0-22418a16625f",
        "colab": {
          "base_uri": "https://localhost:8080/",
          "height": 434
        }
      },
      "cell_type": "code",
      "source": [
        "iters = np.arange(10, 50, 10)\n",
        "err_sgd_test_sct = []\n",
        "err_sgd_train_sct = []\n",
        "for i in iters:\n",
        "    print('iters = ',i)\n",
        "    preds_sgd = sgd(np.array(sm_u_10_sct_res_train.todense()), k=10, iterations= i)\n",
        "    err_test = get_mse(preds_sgd[0], np.array(sm_u_10_sct_res_val.todense()))\n",
        "    err_train = get_mse(preds_sgd[0], np.array(sm_u_10_sct_res_train.todense()))\n",
        "    err_sgd_test_sct.append(err_test)\n",
        "    err_sgd_train_sct.append(err_train)\n",
        "fig = plt.figure(figsize=(8,5))\n",
        "plt.plot(iters,err_sgd_test_sct,'b-',label = 'validation')\n",
        "plt.plot(iters,err_sgd_train_sct,'r-', label = 'training')\n",
        "plt.title('MSE_sgd vs Iterations (Restaurants in Toronto)')\n",
        "plt.xlabel('Iterations')\n",
        "plt.ylabel('MSE')\n",
        "plt.legend()"
      ],
      "execution_count": 0,
      "outputs": [
        {
          "output_type": "stream",
          "text": [
            "iters =  10\n",
            "iters =  20\n",
            "iters =  30\n",
            "iters =  40\n"
          ],
          "name": "stdout"
        },
        {
          "output_type": "execute_result",
          "data": {
            "text/plain": [
              "<matplotlib.legend.Legend at 0x7f52da332630>"
            ]
          },
          "metadata": {
            "tags": []
          },
          "execution_count": 121
        },
        {
          "output_type": "display_data",
          "data": {
            "image/png": "[encoded data removed]",
            "text/plain": [
              "<Figure size 576x360 with 1 Axes>"
            ]
          },
          "metadata": {
            "tags": []
          }
        }
      ]
    },
    {
      "metadata": {
        "id": "IyRWQx28oNkp",
        "colab_type": "text"
      },
      "cell_type": "markdown",
      "source": [
        "**Optimal Number of Iterations = 30**"
      ]
    },
    {
      "metadata": {
        "id": "E_eIuGxEndLY",
        "colab_type": "code",
        "outputId": "3a9ee8c2-474b-4903-d944-c88c61455e98",
        "colab": {
          "base_uri": "https://localhost:8080/",
          "height": 536
        }
      },
      "cell_type": "code",
      "source": [
        "k = np.linspace(2, 15, 10, dtype = int)\n",
        "err_sgd_val_sct = []\n",
        "err_sgd_train_sct = []\n",
        "for i in k:\n",
        "    print('k=', i)\n",
        "    preds_sgd = sgd(np.array(sm_u_10_sct_res_train.todense()), k=i, iterations= 30)\n",
        "    err_val = get_mse(preds_sgd[0], np.array(sm_u_10_sct_res_val.todense()))\n",
        "    err_train = get_mse(preds_sgd[0], np.array(sm_u_10_sct_res_train.todense()))\n",
        "    err_sgd_val_sct.append(err_val)\n",
        "    err_sgd_train_sct.append(err_train)\n",
        "fig = plt.figure(figsize=(8,5))\n",
        "plt.plot(k,err_sgd_val_sct,'b-',label = 'validation')\n",
        "plt.plot(k,err_sgd_train_sct,'r-', label = 'training')\n",
        "plt.title('MSE_sgd vs k (for Restaurants in Scottsdale)')\n",
        "plt.xlabel('k')\n",
        "plt.ylabel('MSE')\n",
        "plt.legend()"
      ],
      "execution_count": 0,
      "outputs": [
        {
          "output_type": "stream",
          "text": [
            "k= 2\n",
            "k= 3\n",
            "k= 4\n",
            "k= 6\n",
            "k= 7\n",
            "k= 9\n",
            "k= 10\n",
            "k= 12\n",
            "k= 13\n",
            "k= 15\n"
          ],
          "name": "stdout"
        },
        {
          "output_type": "execute_result",
          "data": {
            "text/plain": [
              "<matplotlib.legend.Legend at 0x7f52da5dfbe0>"
            ]
          },
          "metadata": {
            "tags": []
          },
          "execution_count": 140
        },
        {
          "output_type": "display_data",
          "data": {
            "image/png": "[encoded data removed]",
            "text/plain": [
              "<Figure size 576x360 with 1 Axes>"
            ]
          },
          "metadata": {
            "tags": []
          }
        }
      ]
    },
    {
      "metadata": {
        "id": "fXIHAfZIn3vE",
        "colab_type": "text"
      },
      "cell_type": "markdown",
      "source": [
        "**Optimal k value = 2**"
      ]
    },
    {
      "metadata": {
        "id": "6LQKAAxkn4dA",
        "colab_type": "code",
        "colab": {}
      },
      "cell_type": "code",
      "source": [
        "predictions_sgd_sct, error_array_sgd_sct, user_vec_sgd_sct, res_vec_sgd_sct = sgd(np.array(sm_u_10_sct_res_train.todense()), k=2, iterations= 30)"
      ],
      "execution_count": 0,
      "outputs": []
    },
    {
      "metadata": {
        "id": "eERyUmcjn7tT",
        "colab_type": "code",
        "outputId": "9eb5a615-8df8-4684-f08a-defa8a2824b6",
        "colab": {
          "base_uri": "https://localhost:8080/",
          "height": 34
        }
      },
      "cell_type": "code",
      "source": [
        "preds_sgd_sct = sgd(np.array(sm_u_10_sct_res_train.todense()),k=2, iterations=30)\n",
        "Best_Val_MSE_sgd_sct = get_mse(preds_sgd_sct[0], np.array(sm_u_10_sct_res_val.todense()))\n",
        "print('Best Validation MSE for SGD for Restaurants in Scottsdale= ', Best_Val_MSE_sgd_sct)"
      ],
      "execution_count": 0,
      "outputs": [
        {
          "output_type": "stream",
          "text": [
            "Best Validation MSE for SGD for Restaurants in Scottsdale=  2.7363082502586065\n"
          ],
          "name": "stdout"
        }
      ]
    },
    {
      "metadata": {
        "id": "mOvjBSMfoijq",
        "colab_type": "code",
        "colab": {}
      },
      "cell_type": "code",
      "source": [
        "train_preds_sgd_sct = preds_sgd_sct[0][train_sct_nnz]\n",
        "val_preds_sgd_sct = preds_sgd_sct[0][val_sct_nnz]\n",
        "test_preds_sgd_sct = preds_sgd_sct[0][test_sct_nnz]"
      ],
      "execution_count": 0,
      "outputs": []
    },
    {
      "metadata": {
        "id": "-Jvs0vU5ove_",
        "colab_type": "text"
      },
      "cell_type": "markdown",
      "source": [
        "## Converting the Matrix Completion Problem into a Regression Problem"
      ]
    },
    {
      "metadata": {
        "id": "fsf4EgRwos-b",
        "colab_type": "code",
        "colab": {}
      },
      "cell_type": "code",
      "source": [
        "import pickle\n",
        "def concatenated_SGD(U, V, matrix):\n",
        "    '''Concatenates the User Vector U (n_u x k) and Res Vector V (n_r x K) and returns a matrix of \\ \n",
        "    2k+1 x number of non-zero ratings in rating matrix (matrix)'''\n",
        "    indexes=matrix.nonzero()\n",
        "    users=U[indexes[0]]\n",
        "    rest=V[indexes[1]]\n",
        "    ratings=matrix[indexes].T\n",
        "    concat_sgd=np.concatenate((users,rest,ratings),axis=1)\n",
        "    return concat_sgd"
      ],
      "execution_count": 0,
      "outputs": []
    },
    {
      "metadata": {
        "id": "LPKTryoHo0ko",
        "colab_type": "text"
      },
      "cell_type": "markdown",
      "source": [
        "## For Restaurants in Phoenix"
      ]
    },
    {
      "metadata": {
        "id": "3rnBF03yoysT",
        "colab_type": "code",
        "colab": {}
      },
      "cell_type": "code",
      "source": [
        "train_phx = concatenated_SGD(user_vec_sgd_phx, res_vec_sgd_phx, sm_u_10_phx_res_train)\n",
        "val_phx = concatenated_SGD(user_vec_sgd_phx, res_vec_sgd_phx, sm_u_10_phx_res_val)\n",
        "test_phx = concatenated_SGD(user_vec_sgd_phx, res_vec_sgd_phx, sm_u_10_phx_res_test)"
      ],
      "execution_count": 0,
      "outputs": []
    },
    {
      "metadata": {
        "id": "q5-I2Z37qHi4",
        "colab_type": "text"
      },
      "cell_type": "markdown",
      "source": [
        "## Random Forest Regressor\n",
        "## For Restaurants in Phoenix"
      ]
    },
    {
      "metadata": {
        "id": "F43FFsH-q70P",
        "colab_type": "code",
        "colab": {}
      },
      "cell_type": "code",
      "source": [
        "train_mat_phx = np.array(train_phx);\n",
        "val_mat_phx = np.array(val_phx);\n",
        "test_mat_phx = np.array(test_phx);\n",
        "x_train, y_train = train_mat_phx[:, :-1], np.ravel(train_mat_phx[:,-1]);\n",
        "x_val, y_val = val_mat_phx[:, :-1], np.ravel(val_mat_phx[:, -1])"
      ],
      "execution_count": 0,
      "outputs": []
    },
    {
      "metadata": {
        "id": "b2diCjRfpPwp",
        "colab_type": "code",
        "outputId": "a692eae8-2240-4a47-8efa-469fa595d1c2",
        "colab": {
          "base_uri": "https://localhost:8080/",
          "height": 88
        }
      },
      "cell_type": "code",
      "source": [
        "from sklearn.ensemble import RandomForestRegressor\n",
        "rf=RandomForestRegressor(max_depth=5)\n",
        "rf.fit(train_mat_phx[:,:4],train_mat_phx[:,4])\n",
        "preds_rf_phx=rf.predict(val_mat_phx[:,:4]).reshape(-1,1)\n",
        "MSE_rf_phx = get_mse(preds_rf_phx, val_mat_phx[:,4])\n",
        "print('MSE for Random Forest Classifier for Restaurants in Phoenix = ', MSE_rf_phx)"
      ],
      "execution_count": 0,
      "outputs": [
        {
          "output_type": "stream",
          "text": [
            "/usr/local/lib/python3.6/dist-packages/sklearn/ensemble/forest.py:246: FutureWarning: The default value of n_estimators will change from 10 in version 0.20 to 100 in 0.22.\n",
            "  \"10 in version 0.20 to 100 in 0.22.\", FutureWarning)\n"
          ],
          "name": "stderr"
        },
        {
          "output_type": "stream",
          "text": [
            "MSE for Random Forest Classifier for Restaurants in Phoenix =  2.710045376922961\n"
          ],
          "name": "stdout"
        }
      ]
    },
    {
      "metadata": {
        "id": "3UgqkZKjqMal",
        "colab_type": "code",
        "colab": {}
      },
      "cell_type": "code",
      "source": [
        "train_preds_rf_phx = rf.predict(train_mat_phx[:,:4])\n",
        "val_preds_rf_phx = rf.predict(val_mat_phx[:,:4])\n",
        "test_preds_rf_phx = rf.predict(test_mat_phx[:,:4])"
      ],
      "execution_count": 0,
      "outputs": []
    },
    {
      "metadata": {
        "id": "Uq6XA-xiqSQe",
        "colab_type": "text"
      },
      "cell_type": "markdown",
      "source": [
        "## For Restaurants in Scottsdale"
      ]
    },
    {
      "metadata": {
        "id": "vfhqHoAerF7S",
        "colab_type": "code",
        "colab": {}
      },
      "cell_type": "code",
      "source": [
        "train_sct = concatenated_SGD(user_vec_sgd_sct, res_vec_sgd_sct, sm_u_10_sct_res_train)\n",
        "val_sct = concatenated_SGD(user_vec_sgd_sct, res_vec_sgd_sct, sm_u_10_sct_res_val)\n",
        "test_sct = concatenated_SGD(user_vec_sgd_sct, res_vec_sgd_sct, sm_u_10_sct_res_test)\n",
        "train_mat_sct = np.array(train_sct);\n",
        "val_mat_sct = np.array(val_sct);\n",
        "test_mat_sct = np.array(test_sct);"
      ],
      "execution_count": 0,
      "outputs": []
    },
    {
      "metadata": {
        "id": "LLIZKos5tCvd",
        "colab_type": "code",
        "colab": {}
      },
      "cell_type": "code",
      "source": [
        "x_train, y_train = train_mat_sct[:, :-1], np.ravel(train_mat_sct[:,-1]);\n",
        "x_val, y_val = val_mat_sct[:, :-1], np.ravel(val_mat_sct[:, -1])"
      ],
      "execution_count": 0,
      "outputs": []
    },
    {
      "metadata": {
        "id": "80f9vHgTqN1k",
        "colab_type": "code",
        "outputId": "7a50f769-a218-43fa-e7f0-1e0c8d6a4f57",
        "colab": {
          "base_uri": "https://localhost:8080/",
          "height": 34
        }
      },
      "cell_type": "code",
      "source": [
        "rf_sct = RandomForestRegressor(max_depth=5)\n",
        "rf.fit(train_mat_sct[:,:4],train_mat_sct[:,4])\n",
        "preds_rf_sct = rf.predict(val_mat_sct[:,:4]).reshape(-1,1)\n",
        "MSE_rf_sct = get_mse(preds_rf_sct, val_mat_sct[:,4])\n",
        "print('MSE for Random Forest Classifier for Restaurants in Scottsdale = ', MSE_rf_sct)"
      ],
      "execution_count": 0,
      "outputs": [
        {
          "output_type": "stream",
          "text": [
            "MSE for Random Forest Classifier for Restaurants in Scottsdale =  2.6717940609972395\n"
          ],
          "name": "stdout"
        }
      ]
    },
    {
      "metadata": {
        "id": "rB5ttEhxqu1K",
        "colab_type": "code",
        "colab": {}
      },
      "cell_type": "code",
      "source": [
        "train_preds_rf_sct = rf.predict(train_mat_sct[:,:4])\n",
        "val_preds_rf_sct = rf.predict(val_mat_sct[:,:4])\n",
        "test_preds_rf_sct = rf.predict(test_mat_sct[:,:4])"
      ],
      "execution_count": 0,
      "outputs": []
    },
    {
      "metadata": {
        "id": "V_LjwaiQrk0y",
        "colab_type": "text"
      },
      "cell_type": "markdown",
      "source": [
        "## Ensemble of all the Predictors (SVD, Cosine Model, ALS, SGD, RF)"
      ]
    },
    {
      "metadata": {
        "id": "IavpQgzorfcq",
        "colab_type": "code",
        "outputId": "aea0bafd-2df1-463c-9b98-ec7cbfb34110",
        "colab": {
          "base_uri": "https://localhost:8080/",
          "height": 34
        }
      },
      "cell_type": "code",
      "source": [
        "train_preds_svd_phx.shape"
      ],
      "execution_count": 0,
      "outputs": [
        {
          "output_type": "execute_result",
          "data": {
            "text/plain": [
              "(37321,)"
            ]
          },
          "metadata": {
            "tags": []
          },
          "execution_count": 147
        }
      ]
    },
    {
      "metadata": {
        "id": "3B6hDK-Cro2b",
        "colab_type": "code",
        "colab": {}
      },
      "cell_type": "code",
      "source": [
        "def build_ensemble_df(svd, cosine,als, sgd, rf):\n",
        "    df =pd.DataFrame(svd)\n",
        "    df.columns = ['SVD']\n",
        "    df['Cosine'] = cosine\n",
        "    df['ALS'] = als\n",
        "    df['SGD'] = sgd\n",
        "    df['Random Forest'] = rf\n",
        "    return df"
      ],
      "execution_count": 0,
      "outputs": []
    },
    {
      "metadata": {
        "id": "HQTu4H7Srthv",
        "colab_type": "code",
        "colab": {}
      },
      "cell_type": "code",
      "source": [
        "ensemble_training_phx_df = build_ensemble_df(train_preds_svd_phx,train_preds_cosine_phx, train_preds_als_phx, train_preds_sgd_phx, train_preds_rf_phx)\n",
        "ensemble_validation_phx_df = build_ensemble_df(val_preds_svd_phx,val_preds_cosine_phx, val_preds_als_phx, val_preds_sgd_phx, val_preds_rf_phx)\n",
        "ensemble_testing_phx_df = build_ensemble_df(test_preds_svd_phx,test_preds_cosine_phx, test_preds_als_phx, test_preds_sgd_phx, test_preds_rf_phx)"
      ],
      "execution_count": 0,
      "outputs": []
    },
    {
      "metadata": {
        "id": "saunWf3Ur5m4",
        "colab_type": "code",
        "colab": {}
      },
      "cell_type": "code",
      "source": [
        "y_train_phx = np.ravel(np.array(sm_u_10_phx_res_train[train_phx_nnz]))\n",
        "y_val_phx = np.ravel(np.array(sm_u_10_phx_res_val[val_phx_nnz]))\n",
        "y_test_phx = np.ravel(np.array(sm_u_10_phx_res_test[test_phx_nnz]))"
      ],
      "execution_count": 0,
      "outputs": []
    },
    {
      "metadata": {
        "id": "e-Hse7lBr-Sg",
        "colab_type": "code",
        "colab": {}
      },
      "cell_type": "code",
      "source": [
        "ensemble_training_sct_df = build_ensemble_df(train_preds_svd_sct,train_preds_cosine_sct, train_preds_als_sct, train_preds_sgd_sct, train_preds_rf_sct)\n",
        "ensemble_validation_sct_df = build_ensemble_df(val_preds_svd_sct,val_preds_cosine_sct, val_preds_als_sct, val_preds_sgd_sct, val_preds_rf_sct)\n",
        "ensemble_testing_sct_df = build_ensemble_df(test_preds_svd_sct,test_preds_cosine_sct, test_preds_als_sct, test_preds_sgd_sct, test_preds_rf_sct)"
      ],
      "execution_count": 0,
      "outputs": []
    },
    {
      "metadata": {
        "id": "0UlExdOVsi7g",
        "colab_type": "code",
        "colab": {}
      },
      "cell_type": "code",
      "source": [
        "y_train_sct = np.ravel(np.array(sm_u_10_sct_res_train[train_sct_nnz]))\n",
        "y_val_sct = np.ravel(np.array(sm_u_10_sct_res_val[val_sct_nnz]))\n",
        "y_test_sct = np.ravel(np.array(sm_u_10_sct_res_test[test_sct_nnz]))"
      ],
      "execution_count": 0,
      "outputs": []
    },
    {
      "metadata": {
        "id": "CaVXxRCSuW3V",
        "colab_type": "code",
        "colab": {}
      },
      "cell_type": "code",
      "source": [
        "from sklearn.linear_model import LinearRegression"
      ],
      "execution_count": 0,
      "outputs": []
    },
    {
      "metadata": {
        "id": "NsEwXgMzuj1j",
        "colab_type": "text"
      },
      "cell_type": "markdown",
      "source": [
        "## For Restaurants in Phoenix"
      ]
    },
    {
      "metadata": {
        "id": "SgEHWShAui8R",
        "colab_type": "code",
        "outputId": "8c87985e-5047-4925-831e-048b5268c1f7",
        "colab": {
          "base_uri": "https://localhost:8080/",
          "height": 34
        }
      },
      "cell_type": "code",
      "source": [
        "lr_phx = LinearRegression(fit_intercept=True)\n",
        "lr_phx.fit(ensemble_training_phx_df.iloc[:,-3:], y_train_phx)\n",
        "ensemble_val_pred_phx = lr_phx.predict(ensemble_validation_phx_df.iloc[:,-3:])\n",
        "MSE_ensemble_phx = get_mse(ensemble_val_pred_phx,y_val_phx)\n",
        "print('MSE of the ensemble of Models for restaurants in Phoenix = ', MSE_ensemble_phx)"
      ],
      "execution_count": 0,
      "outputs": [
        {
          "output_type": "stream",
          "text": [
            "MSE of the ensemble of Models for restaurants in Phoenix =  2.8581335434488757\n"
          ],
          "name": "stdout"
        }
      ]
    },
    {
      "metadata": {
        "id": "6asqin4oupaX",
        "colab_type": "text"
      },
      "cell_type": "markdown",
      "source": [
        "**Ridge Regression with high penalty**"
      ]
    },
    {
      "metadata": {
        "id": "o7oApuFdunbF",
        "colab_type": "code",
        "outputId": "1e6b7d85-9ecc-4e32-8290-66e41232a7bf",
        "colab": {
          "base_uri": "https://localhost:8080/",
          "height": 34
        }
      },
      "cell_type": "code",
      "source": [
        "from sklearn.linear_model import Ridge\n",
        "lrr_phx = Ridge(alpha = 10000)\n",
        "lrr_phx.fit(ensemble_training_phx_df.iloc[:,-3:], y_train_phx)\n",
        "ensemble_val_pred_phx = lrr_phx.predict(ensemble_validation_phx_df.iloc[:,-3:])\n",
        "MSE_ensemble_phx = get_mse(ensemble_val_pred_phx,y_val_phx)\n",
        "print('MSE of the ensemble of Models for restaurants in Phoenix = ', MSE_ensemble_phx)"
      ],
      "execution_count": 0,
      "outputs": [
        {
          "output_type": "stream",
          "text": [
            "MSE of the ensemble of Models for restaurants in Phoenix =  2.6333817860275097\n"
          ],
          "name": "stdout"
        }
      ]
    },
    {
      "metadata": {
        "id": "MnLBy6bkuxRK",
        "colab_type": "text"
      },
      "cell_type": "markdown",
      "source": [
        "## For Restaurants in Scottsdalle"
      ]
    },
    {
      "metadata": {
        "id": "UK8eJTNduwge",
        "colab_type": "code",
        "outputId": "62d14d5c-35d3-4588-e8a9-81e0d0deaa58",
        "colab": {
          "base_uri": "https://localhost:8080/",
          "height": 34
        }
      },
      "cell_type": "code",
      "source": [
        "lr_sct = LinearRegression(fit_intercept=True)\n",
        "lr_sct.fit(ensemble_training_sct_df.iloc[:,-3:], y_train_sct)\n",
        "ensemble_val_pred_sct = lr_sct.predict(ensemble_validation_sct_df.iloc[:,-3:])\n",
        "MSE_ensemble_sct = get_mse(ensemble_val_pred_sct,y_val_sct)\n",
        "print('MSE of the ensemble of Models for restaurants in Scottsdalle = ', MSE_ensemble_sct)"
      ],
      "execution_count": 0,
      "outputs": [
        {
          "output_type": "stream",
          "text": [
            "MSE of the ensemble of Models for restaurants in Scottsdalle =  2.8199476688267002\n"
          ],
          "name": "stdout"
        }
      ]
    },
    {
      "metadata": {
        "id": "OCyvW2yQvsvE",
        "colab_type": "text"
      },
      "cell_type": "markdown",
      "source": [
        "**Ridge Regression with high penalty**"
      ]
    },
    {
      "metadata": {
        "id": "QeGuNjbFuuck",
        "colab_type": "code",
        "outputId": "73263f65-8e27-4a57-e372-c811bb3dc632",
        "colab": {
          "base_uri": "https://localhost:8080/",
          "height": 34
        }
      },
      "cell_type": "code",
      "source": [
        "lrr_sct = Ridge(alpha = 10000)\n",
        "lrr_sct.fit(ensemble_training_sct_df.iloc[:,-3:], y_train_sct)\n",
        "ensemble_val_pred_sct = lrr_sct.predict(ensemble_validation_sct_df.iloc[:,-3:])\n",
        "MSE_ensemble_sct = get_mse(ensemble_val_pred_sct,y_val_sct)\n",
        "print('MSE of the ensemble of Models for restaurants in Scottsdalle = ', MSE_ensemble_sct)"
      ],
      "execution_count": 0,
      "outputs": [
        {
          "output_type": "stream",
          "text": [
            "MSE of the ensemble of Models for restaurants in Scottsdalle =  2.5183558867860882\n"
          ],
          "name": "stdout"
        }
      ]
    },
    {
      "metadata": {
        "id": "o4u_wHJlwDIN",
        "colab_type": "text"
      },
      "cell_type": "markdown",
      "source": [
        "# 4. Testing the best model on the test data and checking the test accuracy\n",
        "## For the restaurants in Phoenix and Scottsdalle, the best model was the ensemble model."
      ]
    },
    {
      "metadata": {
        "id": "iHfOww7LwBB0",
        "colab_type": "code",
        "outputId": "938950a6-0567-4b88-c56c-9bc51e04940e",
        "colab": {
          "base_uri": "https://localhost:8080/",
          "height": 34
        }
      },
      "cell_type": "code",
      "source": [
        "ensemble_test_pred_phx = lrr_phx.predict(ensemble_testing_phx_df.iloc[:,-3:])\n",
        "MSE_test_phx = get_mse(ensemble_test_pred_phx,y_test_phx)\n",
        "print('MSE of the ensemble of Models for restaurants in Phoenix (test) = ', MSE_test_phx)"
      ],
      "execution_count": 0,
      "outputs": [
        {
          "output_type": "stream",
          "text": [
            "MSE of the ensemble of Models for restaurants in Phoenix (test) =  2.516408382298725\n"
          ],
          "name": "stdout"
        }
      ]
    },
    {
      "metadata": {
        "id": "hyj_LS8MwLbZ",
        "colab_type": "code",
        "outputId": "861590c0-60f3-4fa4-8f64-df1f07957515",
        "colab": {
          "base_uri": "https://localhost:8080/",
          "height": 34
        }
      },
      "cell_type": "code",
      "source": [
        "ensemble_test_pred_sct = lrr_sct.predict(ensemble_testing_sct_df.iloc[:,-3:])\n",
        "MSE_test_sct = get_mse(ensemble_test_pred_sct,y_test_sct)\n",
        "print('MSE of the ensemble of Models for restaurants in Scottsdalle (test) = ', MSE_test_sct)"
      ],
      "execution_count": 0,
      "outputs": [
        {
          "output_type": "stream",
          "text": [
            "MSE of the ensemble of Models for restaurants in Scottsdalle (test) =  3.274722986480964\n"
          ],
          "name": "stdout"
        }
      ]
    },
    {
      "metadata": {
        "id": "8Upbgug3wWPn",
        "colab_type": "code",
        "colab": {}
      },
      "cell_type": "code",
      "source": [
        ""
      ],
      "execution_count": 0,
      "outputs": []
    }
  ]
}